{
 "cells": [
  {
   "cell_type": "markdown",
   "id": "a91bdcbf",
   "metadata": {},
   "source": [
    "# PYTHON-102 | Curso de Python: Comprehensions, Funciones y Manejo de Errores"
   ]
  },
  {
   "cell_type": "markdown",
   "id": "3f1716a6",
   "metadata": {},
   "source": [
    "## Manejo de Errores\n",
    "\n",
    "Cada vez que hay un error, el programa termina, eso es bastante delicado. El siguiente código, hay varios ejemplos de excepciones, descomente para ver su comportamiento. "
   ]
  },
  {
   "cell_type": "code",
   "execution_count": 1,
   "id": "3273321e",
   "metadata": {},
   "outputs": [
    {
     "name": "stdout",
     "output_type": "stream",
     "text": [
      "Hello\n"
     ]
    }
   ],
   "source": [
    "# SyntaxError: unmatched ')'\n",
    "# print(0/0))\n",
    "\n",
    "# ZeroDivisionError: division by zero\n",
    "# print(0/0)\n",
    "\n",
    "# NameError: name 'A' is not defined\n",
    "# print(A)\n",
    "\n",
    "\n",
    "# AssertionError\n",
    "\"\"\"print(\"Assert Test #1\")\n",
    "suma_1 = lambda x,y: x + y\n",
    "assert suma_1(2,2) == 4\n",
    "\n",
    "print(\"Assert Test #2\")\n",
    "suma_2 = lambda x,y: x + y\n",
    "assert suma_2(2,2) != 4\n",
    "\n",
    "print(\"Assert Test #3\")\n",
    "suma_3 = lambda x,y: x + (y+2)\n",
    "assert suma_3(2,2) == 4\n",
    "\"\"\"\n",
    "\n",
    "# My own exception\n",
    "\"\"\"age = 10\n",
    "if age < 18:\n",
    "    raise Exception(\"Text\")\n",
    "\"\"\"\n",
    "print(\"Hello\")\n"
   ]
  },
  {
   "cell_type": "code",
   "execution_count": 2,
   "id": "8aec512d",
   "metadata": {},
   "outputs": [
    {
     "name": "stdout",
     "output_type": "stream",
     "text": [
      "division by zero\n",
      "one is not equal to one\n",
      "minors are not allowed to enter\n",
      "Hello World\n"
     ]
    }
   ],
   "source": [
    "# ZeroDivisionError: division by zero\n",
    "try:\n",
    "    print(0/0)\n",
    "except ZeroDivisionError as error:\n",
    "    print(error)\n",
    "\n",
    "# My Own Error #1\n",
    "try:\n",
    "    assert 1 != 1, \"one is not equal to one\"\n",
    "except AssertionError as error:\n",
    "    print(error)\n",
    "\n",
    "# My Own Error 2\n",
    "try:\n",
    "    age = 10\n",
    "    if age < 18:\n",
    "        raise Exception(\"minors are not allowed to enter\")\n",
    "except Exception as error:\n",
    "    print(error)\n",
    "\n",
    "print(\"Hello World\")"
   ]
  },
  {
   "cell_type": "markdown",
   "id": "f633baa3",
   "metadata": {},
   "source": [
    "El codigo anterior, ejemplifica la forma de capturar los errores sin que el código se detenga, sin embargo se vuelve engorrozo la tares de definir un try/except por cada línea de código. Así que se puede dejar en un solo bloque todo el código dentro de un try, veamos...\n"
   ]
  },
  {
   "cell_type": "code",
   "execution_count": 3,
   "id": "b6ff78a1",
   "metadata": {},
   "outputs": [
    {
     "name": "stdout",
     "output_type": "stream",
     "text": [
      "division by zero\n",
      "Hello World\n"
     ]
    }
   ],
   "source": [
    "# ZeroDivisionError: division by zero\n",
    "try:\n",
    "    print(0/0)\n",
    "    assert 1 != 1, \"one is not equal to one\"\n",
    "    age = 10\n",
    "    if age < 18:\n",
    "        raise Exception(\"minors are not allowed to enter\")\n",
    "except ZeroDivisionError as error:\n",
    "    print(error)\n",
    "except AssertionError as error:\n",
    "    print(error)\n",
    "except Exception as error:\n",
    "    print(error)\n",
    "\n",
    "print(\"Hello World\")"
   ]
  },
  {
   "cell_type": "markdown",
   "id": "b9c81541",
   "metadata": {},
   "source": [
    "En el código anterior, solo figura un mensaje de error debido a que se detuvo la ejecución del código dentro del bloque, pero continuó con el resto de código.\n",
    "\n",
    "El bloque __else__ se ejecuta cuando todo lo del bloque __‘try’__ se ejecuta correctamente, es decir, sin excepciones.\n",
    "\n",
    "El bloque __finally__ se ejecuta haya o no excepciones en el bloque ‘try’, es decir, que su ejecución es obligatoria"
   ]
  },
  {
   "cell_type": "code",
   "execution_count": 4,
   "id": "3c669d53",
   "metadata": {},
   "outputs": [],
   "source": [
    "try:\n",
    "    pass\n",
    "except Exception as e:\n",
    "    raise\n",
    "else:\n",
    "    pass\n",
    "finally:\n",
    "    pass"
   ]
  }
 ],
 "metadata": {
  "kernelspec": {
   "display_name": "Python 3 (ipykernel)",
   "language": "python",
   "name": "python3"
  },
  "language_info": {
   "codemirror_mode": {
    "name": "ipython",
    "version": 3
   },
   "file_extension": ".py",
   "mimetype": "text/x-python",
   "name": "python",
   "nbconvert_exporter": "python",
   "pygments_lexer": "ipython3",
   "version": "3.9.13"
  },
  "vscode": {
   "interpreter": {
    "hash": "12c9b46d31cbecae80967ad3eee514a420b2c4c1bbdbfd8f9ed6de5ac67626f3"
   }
  }
 },
 "nbformat": 4,
 "nbformat_minor": 5
}
