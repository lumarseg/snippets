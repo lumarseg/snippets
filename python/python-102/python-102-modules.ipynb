{
 "cells": [
  {
   "cell_type": "markdown",
   "id": "21ed3438",
   "metadata": {},
   "source": [
    "# PYTHON-102 | Curso de Python: Comprehensions, Funciones y Manejo de Errores"
   ]
  },
  {
   "cell_type": "markdown",
   "id": "bd2fdfa5",
   "metadata": {},
   "source": [
    "### Modules\n",
    "\n"
   ]
  },
  {
   "cell_type": "code",
   "execution_count": 55,
   "id": "36161960",
   "metadata": {},
   "outputs": [
    {
     "name": "stdout",
     "output_type": "stream",
     "text": [
      "['/home/ldmar/dev/github/pub/courses/python-course/python-102', '/home/ldmar/anaconda3/lib/python39.zip', '/home/ldmar/anaconda3/lib/python3.9', '/home/ldmar/anaconda3/lib/python3.9/lib-dynload', '', '/home/ldmar/anaconda3/lib/python3.9/site-packages', '/home/ldmar/anaconda3/lib/python3.9/site-packages/IPython/extensions', '/home/ldmar/.ipython']\n",
      "----------\n",
      "['22402231', '506', '3']\n",
      "----------\n",
      "1670969425.7694194\n",
      "time.struct_time(tm_year=2022, tm_mon=12, tm_mday=13, tm_hour=16, tm_min=10, tm_sec=25, tm_wday=1, tm_yday=347, tm_isdst=0)\n",
      "Tue Dec 13 16:10:25 2022\n",
      "----------\n",
      "Counter({1: 4, 3: 2, 2: 1, 4: 1, 5: 1, 21: 1})\n"
     ]
    }
   ],
   "source": [
    "# Module for the Operating System\n",
    "import sys\n",
    "print(sys.path)\n",
    "print(\"-\"*10)\n",
    "\n",
    "# Module for the Regular Expressions\n",
    "import re\n",
    "text = \"Mi numero de telefono es 22402231, y el códifo de pais es 506, mi numero de suerte es 3\"\n",
    "result = re.findall(\"[0-9]+\", text)\n",
    "print(result)\n",
    "print(\"-\"*10)\n",
    "\n",
    "# Module for time and dates\n",
    "import time\n",
    "timestamp = time.time()\n",
    "localtime = time.localtime()\n",
    "humanlocaltime = time.asctime(localtime)\n",
    "print(timestamp)\n",
    "print(localtime)\n",
    "print(humanlocaltime)\n",
    "print(\"-\"*10)\n",
    "\n",
    "# Module for list\n",
    "import collections\n",
    "numbers = [1, 1, 2, 1, 1, 4, 5, 3, 3, 21]\n",
    "counter = collections.Counter(numbers)\n",
    "print(counter)"
   ]
  },
  {
   "cell_type": "markdown",
   "id": "afa2e1cc",
   "metadata": {},
   "source": [
    "__Trabajando con mis propios módulos__\n",
    "\n",
    "Hacer modulos es una forma muy eficiente de simplificar la lectura del codigo, pues modulariza el codigo es porciones funcionales."
   ]
  },
  {
   "cell_type": "code",
   "execution_count": 56,
   "id": "55ec4d9c",
   "metadata": {},
   "outputs": [
    {
     "name": "stdout",
     "output_type": "stream",
     "text": [
      "['col', 'bol'] [300, 400]\n",
      "Type Country: Costa Rica\n",
      "[{'Country': 'Costa Rica', 'Population': 500}]\n"
     ]
    }
   ],
   "source": [
    "import app.utils\n",
    "\n",
    "keys, values = app.utils.get_population()\n",
    "print(keys, values)\n",
    "\n",
    "data = [\n",
    "    {\n",
    "        \"Country\": \"Colombia\",\n",
    "        \"Population\": 300\n",
    "    },\n",
    "    {\n",
    "        \"Country\": \"Bolivia\",\n",
    "        \"Population\": 400\n",
    "    },\n",
    "    {\n",
    "        \"Country\": \"Costa Rica\",\n",
    "        \"Population\": 500\n",
    "    }\n",
    "]\n",
    "\n",
    "country = input(\"Type Country: \")\n",
    "result = app.utils.population_by_country(data, country)\n",
    "print(result)"
   ]
  },
  {
   "cell_type": "markdown",
   "id": "2bef428f",
   "metadata": {},
   "source": [
    "__Corriendo scripts__\n",
    "\n",
    "Los módulos en Python se pueden correr de dos maneras, la primera es declarando las funciones dentro del módulo y esas funciones se corren importandolas desde otro archivo. Sin embargo tambien se pueden correr los modulos de forma directa como __\"Scripts\"__, esta dualidad puede ocacionar errores. (Revise los ejemplos en VSCODE)."
   ]
  },
  {
   "cell_type": "markdown",
   "id": "d5af4b97",
   "metadata": {},
   "source": [
    "__Paquetes__\n",
    "\n",
    "Una carpeta que tiene modulos es un paquete. Antes de la versión de Python 3.3, era obligatorio declarar un archivo clave llamado **\"_ _init_ _.py\"**.\n"
   ]
  },
  {
   "cell_type": "code",
   "execution_count": 57,
   "id": "30bde5b9",
   "metadata": {},
   "outputs": [
    {
     "name": "stdout",
     "output_type": "stream",
     "text": [
      "Se inició paquete\n",
      "Func 1\n",
      "Func 2\n",
      "Func 3\n",
      "Func 4\n"
     ]
    }
   ],
   "source": [
    "from pkg.mod_1 import func_1, func_2\n",
    "from pkg.mod_2 import func_3, func_4\n",
    "\n",
    "print(func_1())\n",
    "print(func_2())\n",
    "print(func_3())\n",
    "print(func_4())"
   ]
  },
  {
   "cell_type": "code",
   "execution_count": 58,
   "id": "48a7fdff",
   "metadata": {},
   "outputs": [
    {
     "name": "stdout",
     "output_type": "stream",
     "text": [
      "Func 1\n",
      "Func 2\n",
      "Func 3\n",
      "Func 4\n"
     ]
    }
   ],
   "source": [
    "import pkg.mod_1 as mod1\n",
    "import pkg.mod_2 as mod2\n",
    "\n",
    "print(mod1.func_1())\n",
    "print(mod1.func_2())\n",
    "print(mod2.func_3())\n",
    "print(mod2.func_4())"
   ]
  },
  {
   "cell_type": "markdown",
   "id": "8f68332b",
   "metadata": {},
   "source": [
    "Los \"_init_.py\" aparte de definir una variable cada vez que se inicia un paquete, tambien pueden ser usado para definir un namespace. "
   ]
  }
 ],
 "metadata": {
  "kernelspec": {
   "display_name": "Python 3 (ipykernel)",
   "language": "python",
   "name": "python3"
  },
  "language_info": {
   "codemirror_mode": {
    "name": "ipython",
    "version": 3
   },
   "file_extension": ".py",
   "mimetype": "text/x-python",
   "name": "python",
   "nbconvert_exporter": "python",
   "pygments_lexer": "ipython3",
   "version": "3.9.13"
  },
  "vscode": {
   "interpreter": {
    "hash": "12c9b46d31cbecae80967ad3eee514a420b2c4c1bbdbfd8f9ed6de5ac67626f3"
   }
  }
 },
 "nbformat": 4,
 "nbformat_minor": 5
}
