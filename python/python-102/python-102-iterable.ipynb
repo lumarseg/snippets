{
 "cells": [
  {
   "cell_type": "markdown",
   "id": "39059880",
   "metadata": {},
   "source": [
    "# PYTHON-102 | Curso de Python: Comprehensions, Funciones y Manejo de Errores"
   ]
  },
  {
   "cell_type": "markdown",
   "id": "8ba82a7b",
   "metadata": {},
   "source": [
    "### Iterables\n"
   ]
  },
  {
   "cell_type": "code",
   "execution_count": 1,
   "id": "037715af",
   "metadata": {},
   "outputs": [
    {
     "name": "stdout",
     "output_type": "stream",
     "text": [
      "1\n",
      "2\n",
      "3\n",
      "4\n",
      "5\n",
      "6\n",
      "7\n",
      "8\n",
      "9\n",
      "10\n",
      "range(1, 11)\n",
      "<range_iterator object at 0x7fb6e05e28d0>\n",
      "1\n",
      "2\n",
      "3\n",
      "4\n"
     ]
    }
   ],
   "source": [
    "for i in range(1, 11):\n",
    "    print(i)\n",
    "\n",
    "my_iter = range(1, 11)\n",
    "print(my_iter)\n",
    "\n",
    "my_iter = iter(range(1, 11))\n",
    "print(my_iter)\n",
    "\n",
    "print(next(my_iter))\n",
    "print(next(my_iter))\n",
    "print(next(my_iter))\n",
    "print(next(my_iter))"
   ]
  }
 ],
 "metadata": {
  "kernelspec": {
   "display_name": "Python 3 (ipykernel)",
   "language": "python",
   "name": "python3"
  },
  "language_info": {
   "codemirror_mode": {
    "name": "ipython",
    "version": 3
   },
   "file_extension": ".py",
   "mimetype": "text/x-python",
   "name": "python",
   "nbconvert_exporter": "python",
   "pygments_lexer": "ipython3",
   "version": "3.9.13"
  },
  "vscode": {
   "interpreter": {
    "hash": "12c9b46d31cbecae80967ad3eee514a420b2c4c1bbdbfd8f9ed6de5ac67626f3"
   }
  }
 },
 "nbformat": 4,
 "nbformat_minor": 5
}
