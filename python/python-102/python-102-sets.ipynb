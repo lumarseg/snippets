{
 "cells": [
  {
   "cell_type": "markdown",
   "id": "fafbda18",
   "metadata": {},
   "source": [
    "# PYTHON-102 | Curso de Python: Comprehensions, Funciones y Manejo de Errores"
   ]
  },
  {
   "cell_type": "markdown",
   "id": "1ed9f870",
   "metadata": {},
   "source": [
    "## CONJUNTOS\n",
    "\n",
    "Los conjuntos son una estructura de datos dentro de Python:\n",
    "Sus propiedades de conjuntos son:\n",
    "\n",
    "* Se pueden modificar\n",
    "* No tiene un orden especfício\n",
    "* No permite duplicados\n"
   ]
  },
  {
   "cell_type": "code",
   "execution_count": 1,
   "id": "573ebd62",
   "metadata": {},
   "outputs": [
    {
     "name": "stdout",
     "output_type": "stream",
     "text": [
      "<class 'set'>\n",
      "{'col', 'mex', 'bol'}\n",
      "----------\n"
     ]
    }
   ],
   "source": [
    "set_countries = {\"col\", \"mex\", \"bol\"}\n",
    "print(type(set_countries))\n",
    "print(set_countries)\n",
    "print(\"-\"*10)\n"
   ]
  },
  {
   "cell_type": "markdown",
   "id": "5d81391a",
   "metadata": {},
   "source": [
    "Tambien es posible tener un conjunto de números, ejemplo:"
   ]
  },
  {
   "cell_type": "code",
   "execution_count": 2,
   "id": "0a13c687",
   "metadata": {},
   "outputs": [
    {
     "name": "stdout",
     "output_type": "stream",
     "text": [
      "{1, 2, 443, 23}\n",
      "----------\n"
     ]
    }
   ],
   "source": [
    "set_numbers = {1, 2, 2, 443, 23}\n",
    "print(set_numbers)\n",
    "print(\"-\"*10)"
   ]
  },
  {
   "cell_type": "markdown",
   "id": "8b9e8b26",
   "metadata": {},
   "source": [
    "O incluso un conjunto de diferente tipos de elementos:"
   ]
  },
  {
   "cell_type": "code",
   "execution_count": 3,
   "id": "20a46af6",
   "metadata": {},
   "outputs": [
    {
     "name": "stdout",
     "output_type": "stream",
     "text": [
      "{False, 1, 12.12, 'hola'}\n",
      "----------\n"
     ]
    }
   ],
   "source": [
    "set_types = {1, \"hola\", False, 12.12}\n",
    "print(set_types)\n",
    "print(\"-\"*10)"
   ]
  },
  {
   "cell_type": "markdown",
   "id": "55744c8f",
   "metadata": {},
   "source": [
    "Tambien se pueden crear conjunto a partir de otras estructuras de datos, por ejemplo:\n",
    "\n",
    "* A partir de un String"
   ]
  },
  {
   "cell_type": "code",
   "execution_count": 4,
   "id": "6407607e",
   "metadata": {},
   "outputs": [
    {
     "name": "stdout",
     "output_type": "stream",
     "text": [
      "{'a', 'h', 'l', 'o'}\n",
      "----------\n"
     ]
    }
   ],
   "source": [
    "set_from_string = set(\"hola\")\n",
    "print(set_from_string)\n",
    "print(\"-\"*10)"
   ]
  },
  {
   "cell_type": "markdown",
   "id": "686cef7d",
   "metadata": {},
   "source": [
    "* A partir de una Tupla"
   ]
  },
  {
   "cell_type": "code",
   "execution_count": 5,
   "id": "0c230f6f",
   "metadata": {},
   "outputs": [
    {
     "name": "stdout",
     "output_type": "stream",
     "text": [
      "{'as', 'abc', 'cbd'}\n",
      "----------\n"
     ]
    }
   ],
   "source": [
    "set_from_tuples = set((\"abc\", \"cbd\", \"as\", \"abc\"))\n",
    "print(set_from_tuples)\n",
    "print(\"-\"*10)"
   ]
  },
  {
   "cell_type": "markdown",
   "id": "eaf07dff",
   "metadata": {},
   "source": [
    "* A partir de una lista"
   ]
  },
  {
   "cell_type": "code",
   "execution_count": 6,
   "id": "d72aede8",
   "metadata": {},
   "outputs": [
    {
     "name": "stdout",
     "output_type": "stream",
     "text": [
      "{1, 2, 3, 4}\n",
      "----------\n"
     ]
    }
   ],
   "source": [
    "numbers = [1, 2, 3, 1, 2, 3, 4]\n",
    "set_numbers = set(numbers)\n",
    "print(set_numbers)\n",
    "print(\"-\"*10)"
   ]
  },
  {
   "cell_type": "markdown",
   "id": "dc264e58",
   "metadata": {},
   "source": [
    "Tambien es posible volver el conjunto a una lista"
   ]
  },
  {
   "cell_type": "code",
   "execution_count": 7,
   "id": "3028c09d",
   "metadata": {},
   "outputs": [
    {
     "name": "stdout",
     "output_type": "stream",
     "text": [
      "[1, 2, 3, 4]\n",
      "----------\n"
     ]
    }
   ],
   "source": [
    "unique_numbers = list(set_numbers)\n",
    "print(unique_numbers)\n",
    "print(\"-\"*10)"
   ]
  },
  {
   "cell_type": "markdown",
   "id": "c44ae34b",
   "metadata": {},
   "source": [
    "### Operaciones CRUD sobre Conjuntos\n",
    "\n",
    "Definamos un conjunto en primera instancia.\n"
   ]
  },
  {
   "cell_type": "code",
   "execution_count": 8,
   "id": "44de74f2",
   "metadata": {},
   "outputs": [
    {
     "name": "stdout",
     "output_type": "stream",
     "text": [
      "{'col', 'mex', 'bol'}\n"
     ]
    }
   ],
   "source": [
    "set_countries = {\"col\", \"mex\", \"bol\"}\n",
    "print(set_countries)"
   ]
  },
  {
   "cell_type": "markdown",
   "id": "3f144036",
   "metadata": {},
   "source": [
    "¿De qué tamaño es dicho conjunto ?"
   ]
  },
  {
   "cell_type": "code",
   "execution_count": 9,
   "id": "978766cc",
   "metadata": {},
   "outputs": [
    {
     "name": "stdout",
     "output_type": "stream",
     "text": [
      "3\n"
     ]
    }
   ],
   "source": [
    "size = len(set_countries)\n",
    "print(size)"
   ]
  },
  {
   "cell_type": "markdown",
   "id": "2cf55e5c",
   "metadata": {},
   "source": [
    "¿Se encuentran Colombia (\"col\") y Perú (\"pe\") en dicho conjunto?"
   ]
  },
  {
   "cell_type": "code",
   "execution_count": 10,
   "id": "1453c572",
   "metadata": {},
   "outputs": [
    {
     "name": "stdout",
     "output_type": "stream",
     "text": [
      "True\n",
      "False\n"
     ]
    }
   ],
   "source": [
    "print(\"col\" in set_countries)\n",
    "print(\"per\" in set_countries)"
   ]
  },
  {
   "cell_type": "markdown",
   "id": "d8ae3a01",
   "metadata": {},
   "source": [
    "Como no se encuentra Perú, el objetivo es agregarlo a la lista, usando lo siguiente:"
   ]
  },
  {
   "cell_type": "code",
   "execution_count": 11,
   "id": "3a39f284",
   "metadata": {},
   "outputs": [
    {
     "name": "stdout",
     "output_type": "stream",
     "text": [
      "{'col', 'pe', 'mex', 'bol'}\n"
     ]
    }
   ],
   "source": [
    "# add\n",
    "\n",
    "set_countries.add(\"pe\")\n",
    "print(set_countries)"
   ]
  },
  {
   "cell_type": "markdown",
   "id": "846ebb31",
   "metadata": {},
   "source": [
    "Los conjuntos no permiten duplicidad, si se vuelve ejecutar el comando anterior, no resultará en otro elemento agregado, vemos:"
   ]
  },
  {
   "cell_type": "code",
   "execution_count": 12,
   "id": "57faf325",
   "metadata": {},
   "outputs": [
    {
     "name": "stdout",
     "output_type": "stream",
     "text": [
      "{'col', 'pe', 'mex', 'bol'}\n"
     ]
    }
   ],
   "source": [
    "set_countries.add(\"pe\")\n",
    "print(set_countries)"
   ]
  },
  {
   "cell_type": "markdown",
   "id": "619b493c",
   "metadata": {},
   "source": [
    "Si se desea actualizar los elementos de un conjunto, se utiliza la siguiente instrucción, agregando una lista de elementos:\n"
   ]
  },
  {
   "cell_type": "code",
   "execution_count": 13,
   "id": "deaede90",
   "metadata": {},
   "outputs": [
    {
     "name": "stdout",
     "output_type": "stream",
     "text": [
      "{'ar', 'pe', 'ecua', 'bol', 'col', 'mex'}\n"
     ]
    }
   ],
   "source": [
    "# update\n",
    "\n",
    "set_countries.update({\"ar\", \"ecua\", \"pe\"})\n",
    "print(set_countries)"
   ]
  },
  {
   "cell_type": "markdown",
   "id": "79ee1cff",
   "metadata": {},
   "source": [
    "Para eliminar un elemento del conjunto, se utiliza la siguiente instrucción:"
   ]
  },
  {
   "cell_type": "code",
   "execution_count": 14,
   "id": "ed9d2fd5",
   "metadata": {},
   "outputs": [
    {
     "name": "stdout",
     "output_type": "stream",
     "text": [
      "{'ar', 'pe', 'ecua', 'bol', 'mex'}\n"
     ]
    }
   ],
   "source": [
    "# remove\n",
    "\n",
    "set_countries.remove(\"col\")\n",
    "print(set_countries)"
   ]
  },
  {
   "cell_type": "markdown",
   "id": "eaf81459",
   "metadata": {},
   "source": [
    "Con el método REMOVE, si el argumento no se encuentra en el conjunto, daría un error. Para eso existe el método DISCARD."
   ]
  },
  {
   "cell_type": "code",
   "execution_count": 15,
   "id": "316566be",
   "metadata": {},
   "outputs": [
    {
     "name": "stdout",
     "output_type": "stream",
     "text": [
      "{'ar', 'pe', 'ecua', 'bol', 'mex'}\n"
     ]
    }
   ],
   "source": [
    "set_countries.discard(\"arg\")\n",
    "print(set_countries)"
   ]
  },
  {
   "cell_type": "markdown",
   "id": "a6b9b027",
   "metadata": {},
   "source": [
    "Para vaciar el conjunto, se usa el método CLEAR."
   ]
  },
  {
   "cell_type": "code",
   "execution_count": 16,
   "id": "ef7b3e7b",
   "metadata": {},
   "outputs": [
    {
     "name": "stdout",
     "output_type": "stream",
     "text": [
      "set()\n",
      "0\n"
     ]
    }
   ],
   "source": [
    "set_countries.clear()\n",
    "print(set_countries)\n",
    "size = len(set_countries)\n",
    "print(size)"
   ]
  },
  {
   "cell_type": "markdown",
   "id": "62a9f111",
   "metadata": {},
   "source": [
    "### Operaciones de Conjuntos"
   ]
  },
  {
   "cell_type": "code",
   "execution_count": 17,
   "id": "b57bd691",
   "metadata": {},
   "outputs": [],
   "source": [
    "set_a = {\"col\", \"mex\", \"bol\"}\n",
    "set_b = {\"pe\", \"bol\", \"crc\"}"
   ]
  },
  {
   "cell_type": "markdown",
   "id": "f9ecd737",
   "metadata": {},
   "source": [
    "__UNION__: Unión de conjuntos"
   ]
  },
  {
   "cell_type": "code",
   "execution_count": 18,
   "id": "ec3a2600",
   "metadata": {},
   "outputs": [
    {
     "name": "stdout",
     "output_type": "stream",
     "text": [
      "{'pe', 'bol', 'crc', 'col', 'mex'}\n",
      "{'pe', 'bol', 'crc', 'col', 'mex'}\n"
     ]
    }
   ],
   "source": [
    "# union\n",
    "\n",
    "# By method\n",
    "set_c = set_a.union(set_b)\n",
    "print(set_c)\n",
    "\n",
    "# By operator\n",
    "print(set_a | set_b)"
   ]
  },
  {
   "cell_type": "markdown",
   "id": "568a6cda",
   "metadata": {},
   "source": [
    "__INTERSECTION__: Intersección de conjuntos"
   ]
  },
  {
   "cell_type": "code",
   "execution_count": 19,
   "id": "112311e1",
   "metadata": {},
   "outputs": [
    {
     "name": "stdout",
     "output_type": "stream",
     "text": [
      "{'bol'}\n",
      "{'bol'}\n"
     ]
    }
   ],
   "source": [
    "# intersection\n",
    "\n",
    "# By method\n",
    "set_c = set_a.intersection(set_b)\n",
    "print(set_c)\n",
    "\n",
    "# By operator\n",
    "print(set_a & set_b)"
   ]
  },
  {
   "cell_type": "markdown",
   "id": "23007883",
   "metadata": {},
   "source": [
    "__DIFFERENCE__: Diferencia de conjuntos"
   ]
  },
  {
   "cell_type": "code",
   "execution_count": 20,
   "id": "51dca824",
   "metadata": {},
   "outputs": [
    {
     "name": "stdout",
     "output_type": "stream",
     "text": [
      "{'col', 'mex'}\n",
      "{'col', 'mex'}\n"
     ]
    }
   ],
   "source": [
    "# difference\n",
    "\n",
    "# By method\n",
    "set_c = set_a.difference(set_b)\n",
    "print(set_c)\n",
    "\n",
    "# By operator\n",
    "print(set_a - set_b)"
   ]
  },
  {
   "cell_type": "markdown",
   "id": "f294579a",
   "metadata": {},
   "source": [
    "__SYMMETRIC DIFFERENCE__: Diferencia simétrica de conjuntos"
   ]
  },
  {
   "cell_type": "code",
   "execution_count": 21,
   "id": "96820f1b",
   "metadata": {},
   "outputs": [
    {
     "name": "stdout",
     "output_type": "stream",
     "text": [
      "{'pe', 'mex', 'crc', 'col'}\n",
      "{'pe', 'mex', 'crc', 'col'}\n"
     ]
    }
   ],
   "source": [
    "# Symmetric Difference\n",
    "\n",
    "# By method\n",
    "set_c = set_a.symmetric_difference(set_b)\n",
    "print(set_c)\n",
    "\n",
    "# By operator\n",
    "print(set_a ^ set_b)"
   ]
  }
 ],
 "metadata": {
  "kernelspec": {
   "display_name": "Python 3 (ipykernel)",
   "language": "python",
   "name": "python3"
  },
  "language_info": {
   "codemirror_mode": {
    "name": "ipython",
    "version": 3
   },
   "file_extension": ".py",
   "mimetype": "text/x-python",
   "name": "python",
   "nbconvert_exporter": "python",
   "pygments_lexer": "ipython3",
   "version": "3.10.8"
  },
  "vscode": {
   "interpreter": {
    "hash": "12c9b46d31cbecae80967ad3eee514a420b2c4c1bbdbfd8f9ed6de5ac67626f3"
   }
  }
 },
 "nbformat": 4,
 "nbformat_minor": 5
}
