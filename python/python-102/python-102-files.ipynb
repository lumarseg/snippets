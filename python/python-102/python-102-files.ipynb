{
 "cells": [
  {
   "cell_type": "markdown",
   "id": "f2e20aa0",
   "metadata": {},
   "source": [
    "# PYTHON-102 | Curso de Python: Comprehensions, Funciones y Manejo de Errores\n"
   ]
  },
  {
   "cell_type": "markdown",
   "id": "85f61a76",
   "metadata": {},
   "source": [
    "## Leer un archivo TXT\n",
    "\n"
   ]
  },
  {
   "cell_type": "code",
   "execution_count": 1,
   "id": "084d1935",
   "metadata": {},
   "outputs": [
    {
     "name": "stdout",
     "output_type": "stream",
     "text": [
      "New Kids on the Block\n",
      "New Kids on the Block\n",
      "New Kids on the Block\n",
      "New Kids on the Block\n",
      "New Kids on the Block\n",
      "New Kids on the Block\n",
      "New Kids on the Block\n",
      "New Kids on the Block\n",
      "New Kids on the Block\n",
      "\n",
      "New Kids on the Block\n",
      "\n",
      "New Kids on the Block\n",
      "\n",
      "New Kids on the Block\n",
      "\n",
      "New Kids on the Block\n",
      "\n",
      "New Kids on the Block\n",
      "\n",
      "New Kids on the Block\n",
      "\n",
      "New Kids on the Block\n",
      "\n",
      "New Kids on the Block\n",
      "\n",
      "New Kids on the Block\n",
      "\n",
      "New Kids on the Block\n",
      "\n",
      "New Kids on the Block\n",
      "\n",
      "New Kids on the Block\n",
      "\n",
      "New Kids on the Block\n",
      "\n",
      "New Kids on the Block\n",
      "\n",
      "New Kids on the Block\n",
      "\n",
      "New Kids on the Block\n",
      "\n",
      "New Kids on the Block\n",
      "\n",
      "New Kids on the Block\n",
      "\n",
      "New Kids on the Block\n",
      "\n",
      "New Kids on the Block\n",
      "\n",
      "New Kids on the Block\n",
      "\n",
      "New Kids on the Block\n",
      "\n",
      "New Kids on the Block\n",
      "\n",
      "New Kids on the Block\n",
      "\n",
      "New Kids on the Block\n",
      "\n"
     ]
    }
   ],
   "source": [
    "# Read file at ones\n",
    "file = open(\"./examples/text.txt\")\n",
    "print(file.read())\n",
    "file.close()\n",
    "\n",
    "# Read file line by line.\n",
    "file = open(\"./examples/text.txt\")\n",
    "print(file.readline())\n",
    "print(file.readline())\n",
    "print(file.readline())\n",
    "print(file.readline())\n",
    "print(file.readline())\n",
    "print(file.readline())\n",
    "print(file.readline())\n",
    "file.close()\n",
    "\n",
    "# Read file line by line in a iteration.\n",
    "file = open(\"./examples/text.txt\")\n",
    "for line in file:\n",
    "    print(line)\n",
    "file.close()\n",
    "\n",
    "# Autoclose code.\n",
    "with open(\"./examples/text.txt\") as file:\n",
    "    for line in file:\n",
    "        print(line)\n"
   ]
  },
  {
   "cell_type": "markdown",
   "id": "dd109246",
   "metadata": {},
   "source": [
    "## Escribir un archivo\n",
    "\n",
    "Veamos algunos de los modos más usados con los que un archivo puede ser abierto en Python:\n",
    "\n",
    "__r ->__ abre un archivo solo para lectura. El puntero al archivo esta localizado al comienzo del archivo. Este es el modo predeterminado de la función.\n",
    "\n",
    "__rb ->__ abre un archivo solo para lectura en formato binario. El puntero al archivo esta localizado al comienzo del archivo. Este es el modo predeterminado de la función.\n",
    "\n",
    "__r+ ->__ abre un archivo para escritura y lectura. El puntero del archivo está localizado al comienzo del archivo.\n",
    "\n",
    "__w ->__ abre un archivo solo para escritura. Sobreescribe el archivo si este ya existe. Si el archivo no existe, crea un nuevo archivo para escritura.\n",
    "\n",
    "__wb ->__ abre un archivo solo para escritura en formato binario. Sobreescribe el archivo si este ya existe. Si el archivo no existe, crea un nuevo archivo para escritura.\n",
    "\n",
    "__w+ ->__ abre un archivo para escritura y lectura. Sobreescribe el archivo si este ya existe. Si el archivo no existe, crea un nuevo archivo para escritura.\n",
    "\n",
    "__a ->__ abre un archivo para anexo. El puntero del archivo esta al final del archivo si este existe. Es decir, el archivo está en modo anexo. Si el archivo no existe, crea un nuevo archivo para escritura."
   ]
  },
  {
   "cell_type": "code",
   "execution_count": 2,
   "id": "b96f2fce",
   "metadata": {},
   "outputs": [
    {
     "name": "stdout",
     "output_type": "stream",
     "text": [
      "New Kids on the Block\n",
      "\n",
      "New Kids on the Block\n",
      "\n",
      "New Kids on the Block\n",
      "\n",
      "New Kids on the Block\n",
      "\n",
      "New Kids on the Block\n",
      "\n",
      "New Kids on the Block\n",
      "\n",
      "New Kids on the Block\n",
      "\n",
      "New Kids on the Block\n",
      "\n",
      "New Kids on the Block\n",
      "\n"
     ]
    }
   ],
   "source": [
    "with open(\"./examples/text.txt\", \"r+\") as file:\n",
    "    for line in file:\n",
    "        print(line)\n",
    "    file.write(\"New Kids on the Block\\n\")"
   ]
  },
  {
   "cell_type": "markdown",
   "id": "78c35856",
   "metadata": {},
   "source": [
    "### Leer CSV\n",
    "\n",
    "Uno de los restos a la hora de leer un CSV es transformarlo en un diccionario para leerlo comodamente."
   ]
  },
  {
   "cell_type": "code",
   "execution_count": 3,
   "id": "0f148f89",
   "metadata": {},
   "outputs": [
    {
     "name": "stdout",
     "output_type": "stream",
     "text": [
      "{'Rank': '36', 'CCA3': 'AFG', 'Country/Territory': 'Afghanistan', 'Capital': 'Kabul', 'Continent': 'Asia', '2022 Population': '41128771', '2020 Population': '38972230', '2015 Population': '33753499', '2010 Population': '28189672', '2000 Population': '19542982', '1990 Population': '10694796', '1980 Population': '12486631', '1970 Population': '10752971', 'Area (km²)': '652230', 'Density (per km²)': '63.0587', 'Growth Rate': '1.0257', 'World Population Percentage': '0.52'}\n"
     ]
    }
   ],
   "source": [
    "import csv\n",
    "\n",
    "def read_csv(path):\n",
    "    with open(path, \"r\") as csvfile:\n",
    "        data = []\n",
    "        reader = csv.reader(csvfile, delimiter= \",\")\n",
    "        header = next(reader)\n",
    "        for row in reader:\n",
    "            iterable = zip(header, row)\n",
    "            country_dict = {key: value for (key, value) in iterable}\n",
    "            data.append(country_dict)\n",
    "        return data\n",
    "\n",
    "\n",
    "if __name__ == \"__main__\":\n",
    "    data = read_csv(\"./app/data.csv\")\n",
    "    print(data[0])"
   ]
  },
  {
   "cell_type": "code",
   "execution_count": 4,
   "id": "87058ba6",
   "metadata": {},
   "outputs": [],
   "source": [
    "## Graficas en Python\n"
   ]
  },
  {
   "cell_type": "code",
   "execution_count": 5,
   "id": "c418940f",
   "metadata": {},
   "outputs": [
    {
     "data": {
      "image/png": "[encoded data removed]",
      "text/plain": [
       "<Figure size 640x480 with 1 Axes>"
      ]
     },
     "metadata": {},
     "output_type": "display_data"
    },
    {
     "data": {
      "image/png": "[encoded data removed]",
      "text/plain": [
       "<Figure size 640x480 with 1 Axes>"
      ]
     },
     "metadata": {},
     "output_type": "display_data"
    }
   ],
   "source": [
    "import matplotlib.pyplot as plt\n",
    "\n",
    "def generate_bar_chart(labels, values):\n",
    "    fig, ax = plt.subplots()\n",
    "    ax.bar(labels, values)\n",
    "    plt.show()\n",
    "\n",
    "def generate_pie_chart(labels, values):\n",
    "    fig, ax = plt.subplots()\n",
    "    ax.pie(values, labels=labels)\n",
    "    ax.axis(\"equal\")\n",
    "    plt.show()\n",
    "\n",
    "if __name__ == \"__main__\":\n",
    "    labels = [\"a\", \"b\", \"c\"]\n",
    "    values = [10, 40, 80]\n",
    "    generate_bar_chart(labels, values)\n",
    "    generate_pie_chart(labels, values)"
   ]
  },
  {
   "cell_type": "markdown",
   "id": "3b7e9cc7",
   "metadata": {},
   "source": [
    "Reto\n"
   ]
  },
  {
   "cell_type": "code",
   "execution_count": 6,
   "id": "7386cd33",
   "metadata": {},
   "outputs": [
    {
     "name": "stdout",
     "output_type": "stream",
     "text": [
      "Type Country Code - CCA3: CRI\n"
     ]
    },
    {
     "data": {
      "image/png": "[encoded data removed]",
      "text/plain": [
       "<Figure size 640x480 with 1 Axes>"
      ]
     },
     "metadata": {},
     "output_type": "display_data"
    }
   ],
   "source": [
    "import retos.reto1.utils as utils\n",
    "import retos.reto1.read_csv as csv\n",
    "import retos.reto1.charts as charts\n",
    "\n",
    "def run():\n",
    "    data = csv.read_csv(\"./retos/reto1/data.csv\")\n",
    "    country_code = input(\"Type Country Code - CCA3: \")\n",
    "    country_code = country_code.upper()\n",
    "\n",
    "    country_data = utils.population_by_country(data, country_code)\n",
    "    \n",
    "    if len(country_code) > 0:\n",
    "        country = country_data[0]\n",
    "        labels, values = utils.get_population(country)\n",
    "        charts.generate_bar_chart(labels, values)\n",
    "\n",
    "if __name__ == \"__main__\":\n",
    "    run()"
   ]
  }
 ],
 "metadata": {
  "kernelspec": {
   "display_name": "Python 3 (ipykernel)",
   "language": "python",
   "name": "python3"
  },
  "language_info": {
   "codemirror_mode": {
    "name": "ipython",
    "version": 3
   },
   "file_extension": ".py",
   "mimetype": "text/x-python",
   "name": "python",
   "nbconvert_exporter": "python",
   "pygments_lexer": "ipython3",
   "version": "3.9.13"
  },
  "vscode": {
   "interpreter": {
    "hash": "12c9b46d31cbecae80967ad3eee514a420b2c4c1bbdbfd8f9ed6de5ac67626f3"
   }
  }
 },
 "nbformat": 4,
 "nbformat_minor": 5
}
