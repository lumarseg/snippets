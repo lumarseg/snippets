{
 "cells": [
  {
   "cell_type": "markdown",
   "id": "330c3cb5",
   "metadata": {},
   "source": [
    "# Series and Data Frames"
   ]
  },
  {
   "attachments": {},
   "cell_type": "markdown",
   "id": "70d0ced9",
   "metadata": {},
   "source": [
    "Pandas es una librería de Python especializada en el manejo y análisis de estructuras de datos. El nombre viene de “Panel data”.\n",
    "\n",
    "* Velocidad\n",
    "* Poco código\n",
    "* Múltiples formatos de archivos\n",
    "* Alineación inteligente\n",
    "\n",
    "Pandas maneja principalmente dos objetos de datos: \"Series\" y \"DataFrame\"\n",
    "\n",
    "\n",
    "**Pandas Series**\n",
    "\n",
    "Es muy parecido a un array de una dimensión (o vector) de NumPy.\n",
    "\n",
    "* Arreglo unidimensional indexado\n",
    "* Búsqueda por índice\n",
    "* Slicing\n",
    "* Operaciones aritméticas\n",
    "* Distintos tipos de datos\n",
    "\n",
    "\n",
    "**Pandas DataFrame**\n",
    "\n",
    "Muy parecido a las estructuras matriciales trabajadas con NumPy.\n",
    "\n",
    "* Estructura principal\n",
    "* Arreglo de dos dimensiones\n",
    "* Búsqueda por índice (columnas o filas)\n",
    "* Slicing\n",
    "* Operaciones aritméticas\n",
    "* Distintos tipos de datos\n",
    "* Tamaño variable\n"
   ]
  },
  {
   "cell_type": "markdown",
   "id": "3fd67459",
   "metadata": {},
   "source": [
    "Empecemos con algo de código..."
   ]
  },
  {
   "cell_type": "code",
   "execution_count": 1,
   "id": "a837552b",
   "metadata": {},
   "outputs": [],
   "source": [
    "import warnings\n",
    "import pandas as pd\n",
    "\n",
    "warnings.filterwarnings(\"ignore\")"
   ]
  },
  {
   "cell_type": "markdown",
   "id": "8f7b27f8",
   "metadata": {},
   "source": [
    "## Series"
   ]
  },
  {
   "cell_type": "markdown",
   "id": "39dc3a3c",
   "metadata": {},
   "source": [
    "Definamos varios tipos de estructuras de datos."
   ]
  },
  {
   "cell_type": "code",
   "execution_count": 2,
   "id": "8a1b7a59",
   "metadata": {},
   "outputs": [
    {
     "name": "stdout",
     "output_type": "stream",
     "text": [
      "<class 'tuple'>\n",
      "('Navas', 'Mbappe', 'Neymar', 'Messi')\n",
      "----------\n",
      "<class 'list'>\n",
      "['Navas', 'Mbappe', 'Neymar', 'Messi']\n",
      "----------\n",
      "<class 'set'>\n",
      "{'Mbappe', 'Navas', 'Messi', 'Neymar'}\n",
      "----------\n",
      "<class 'dict'>\n",
      "{1: 'Navas', 7: 'Mbappe', 10: 'Neymar', 30: 'Messi'}\n",
      "\n",
      "<class 'dict'>\n",
      "{'Jugador': ['Navas', 'Mbappe', 'Neymar', 'Messi'], 'Altura': [183.0, 170.0, 170.0, 165.0], 'Goles': [2, 200, 200, 200]}\n"
     ]
    }
   ],
   "source": [
    "# Tuple | Tupla\n",
    "tuple = (\"Navas\", \"Mbappe\", \"Neymar\", \"Messi\")\n",
    "print(type(tuple))\n",
    "print(tuple)\n",
    "print(\"-\"*10)\n",
    "\n",
    "# List | Lista\n",
    "list = [\"Navas\", \"Mbappe\", \"Neymar\", \"Messi\"]\n",
    "print(type(list))\n",
    "print(list)\n",
    "print(\"-\"*10)\n",
    "\n",
    "# Set | Conjunto\n",
    "set = {\"Navas\", \"Mbappe\", \"Neymar\", \"Messi\"}\n",
    "print(type(set))\n",
    "print(set)\n",
    "print(\"-\"*10)\n",
    "\n",
    "# Dicctionary | Diccionario\n",
    "dicct = {1: \"Navas\", 7: \"Mbappe\", 10: \"Neymar\", 30: \"Messi\"}\n",
    "print(type(dicct))\n",
    "print(dicct)\n",
    "print(\"\")\n",
    "\n",
    "dicct2 = {\"Jugador\":[\"Navas\", \"Mbappe\", \"Neymar\", \"Messi\"],\n",
    " \"Altura\": [183.0, 170.0, 170.0, 165.0],\n",
    " \"Goles\": [2, 200, 200, 200]}\n",
    "print(type(dicct2))\n",
    "print(dicct2)"
   ]
  },
  {
   "cell_type": "markdown",
   "id": "5c9a0e1d",
   "metadata": {},
   "source": [
    "Creando una Serie"
   ]
  },
  {
   "cell_type": "code",
   "execution_count": 3,
   "id": "2292e580",
   "metadata": {
    "scrolled": true
   },
   "outputs": [
    {
     "name": "stdout",
     "output_type": "stream",
     "text": [
      "0     Navas\n",
      "1    Mbappe\n",
      "2    Neymar\n",
      "3     Messi\n",
      "dtype: object\n",
      "----------\n",
      "0     Navas\n",
      "1    Mbappe\n",
      "2    Neymar\n",
      "3     Messi\n",
      "dtype: object\n",
      "----------\n",
      "1      Navas\n",
      "7     Mbappe\n",
      "10    Neymar\n",
      "30     Messi\n",
      "dtype: object\n",
      "----------\n"
     ]
    }
   ],
   "source": [
    "# Tuple | Tupla\n",
    "print(pd.Series(tuple))\n",
    "print(\"-\"*10)\n",
    "\n",
    "# List | Lista\n",
    "print(pd.Series(list))\n",
    "print(\"-\"*10)\n",
    "\n",
    "# Set | Conjunto\n",
    "# Set is not supported, type is unordered\n",
    "# print(pd.Series(set))\n",
    "# print(\"-\"*10)\n",
    "\n",
    "# Dicctionary | Diccionario\n",
    "print(pd.Series(dicct))\n",
    "print(\"-\"*10)\n",
    "\n",
    "#pd.Series(list_noindex)"
   ]
  },
  {
   "cell_type": "markdown",
   "id": "c356a538",
   "metadata": {},
   "source": [
    "Tambien se puede crear una Serie incluyendo los datos como argumento de la función."
   ]
  },
  {
   "cell_type": "code",
   "execution_count": 4,
   "id": "5b2e386d",
   "metadata": {
    "scrolled": false
   },
   "outputs": [
    {
     "data": {
      "text/plain": [
       "0     Navas\n",
       "1    Mbappe\n",
       "2    Neymar\n",
       "3     Messi\n",
       "dtype: object"
      ]
     },
     "execution_count": 4,
     "metadata": {},
     "output_type": "execute_result"
    }
   ],
   "source": [
    "pd.Series([\"Navas\", \"Mbappe\", \"Neymar\", \"Messi\"])"
   ]
  },
  {
   "cell_type": "markdown",
   "id": "2e886681",
   "metadata": {},
   "source": [
    "**Series con Indices**"
   ]
  },
  {
   "cell_type": "code",
   "execution_count": 5,
   "id": "4bbddc19",
   "metadata": {},
   "outputs": [
    {
     "data": {
      "text/plain": [
       "1      Navas\n",
       "7     Mbappe\n",
       "10    Neymar\n",
       "30     Messi\n",
       "dtype: object"
      ]
     },
     "execution_count": 5,
     "metadata": {},
     "output_type": "execute_result"
    }
   ],
   "source": [
    "pd.Series([\"Navas\", \"Mbappe\", \"Neymar\", \"Messi\"], \n",
    "         index = [1, 7, 10, 30]\n",
    "         )"
   ]
  },
  {
   "cell_type": "code",
   "execution_count": 6,
   "id": "b7348b9c",
   "metadata": {},
   "outputs": [],
   "source": [
    "psg_players = pd.Series([\"Navas\", \"Mbappe\", \"Neymar\", \"Messi\"], \n",
    "         index = [1, 7, 10, 30]\n",
    "         )"
   ]
  },
  {
   "cell_type": "markdown",
   "id": "5e59380b",
   "metadata": {},
   "source": [
    "### Indexing & Slicing"
   ]
  },
  {
   "cell_type": "code",
   "execution_count": 7,
   "id": "b8383182",
   "metadata": {
    "scrolled": true
   },
   "outputs": [
    {
     "data": {
      "text/plain": [
       "1      Navas\n",
       "7     Mbappe\n",
       "10    Neymar\n",
       "30     Messi\n",
       "dtype: object"
      ]
     },
     "execution_count": 7,
     "metadata": {},
     "output_type": "execute_result"
    }
   ],
   "source": [
    "pd.Series(dicct)"
   ]
  },
  {
   "cell_type": "code",
   "execution_count": 8,
   "id": "7ad66fc6",
   "metadata": {},
   "outputs": [
    {
     "data": {
      "text/plain": [
       "'Mbappe'"
      ]
     },
     "execution_count": 8,
     "metadata": {},
     "output_type": "execute_result"
    }
   ],
   "source": [
    "psg_players[7]"
   ]
  },
  {
   "cell_type": "code",
   "execution_count": 9,
   "id": "eac09fa8",
   "metadata": {},
   "outputs": [
    {
     "data": {
      "text/plain": [
       "1      Navas\n",
       "7     Mbappe\n",
       "10    Neymar\n",
       "dtype: object"
      ]
     },
     "execution_count": 9,
     "metadata": {},
     "output_type": "execute_result"
    }
   ],
   "source": [
    "psg_players[:3]"
   ]
  },
  {
   "cell_type": "code",
   "execution_count": 10,
   "id": "592ed48b",
   "metadata": {},
   "outputs": [],
   "source": [
    "psg_players = pd.Series([\"Navas\", \"Mbappe\", \"Neymar\", \"Messi\"])"
   ]
  },
  {
   "cell_type": "code",
   "execution_count": 11,
   "id": "314637bf",
   "metadata": {},
   "outputs": [
    {
     "data": {
      "text/plain": [
       "0     Navas\n",
       "1    Mbappe\n",
       "2    Neymar\n",
       "dtype: object"
      ]
     },
     "execution_count": 11,
     "metadata": {},
     "output_type": "execute_result"
    }
   ],
   "source": [
    "psg_players[:3]"
   ]
  },
  {
   "cell_type": "markdown",
   "id": "3bf1a881",
   "metadata": {},
   "source": [
    "## DataFrame"
   ]
  },
  {
   "cell_type": "code",
   "execution_count": 12,
   "id": "547fa359",
   "metadata": {},
   "outputs": [
    {
     "data": {
      "text/html": [
       "<div>\n",
       "<style scoped>\n",
       "    .dataframe tbody tr th:only-of-type {\n",
       "        vertical-align: middle;\n",
       "    }\n",
       "\n",
       "    .dataframe tbody tr th {\n",
       "        vertical-align: top;\n",
       "    }\n",
       "\n",
       "    .dataframe thead th {\n",
       "        text-align: right;\n",
       "    }\n",
       "</style>\n",
       "<table border=\"1\" class=\"dataframe\">\n",
       "  <thead>\n",
       "    <tr style=\"text-align: right;\">\n",
       "      <th></th>\n",
       "      <th>Jugador</th>\n",
       "      <th>Altura</th>\n",
       "      <th>Goles</th>\n",
       "    </tr>\n",
       "  </thead>\n",
       "  <tbody>\n",
       "    <tr>\n",
       "      <th>0</th>\n",
       "      <td>Navas</td>\n",
       "      <td>183.0</td>\n",
       "      <td>2</td>\n",
       "    </tr>\n",
       "    <tr>\n",
       "      <th>1</th>\n",
       "      <td>Mbappe</td>\n",
       "      <td>170.0</td>\n",
       "      <td>200</td>\n",
       "    </tr>\n",
       "    <tr>\n",
       "      <th>2</th>\n",
       "      <td>Neymar</td>\n",
       "      <td>170.0</td>\n",
       "      <td>200</td>\n",
       "    </tr>\n",
       "    <tr>\n",
       "      <th>3</th>\n",
       "      <td>Messi</td>\n",
       "      <td>165.0</td>\n",
       "      <td>200</td>\n",
       "    </tr>\n",
       "  </tbody>\n",
       "</table>\n",
       "</div>"
      ],
      "text/plain": [
       "  Jugador  Altura  Goles\n",
       "0   Navas   183.0      2\n",
       "1  Mbappe   170.0    200\n",
       "2  Neymar   170.0    200\n",
       "3   Messi   165.0    200"
      ]
     },
     "execution_count": 12,
     "metadata": {},
     "output_type": "execute_result"
    }
   ],
   "source": [
    "pd.DataFrame(dicct2)"
   ]
  },
  {
   "cell_type": "code",
   "execution_count": 13,
   "id": "1d41a822",
   "metadata": {},
   "outputs": [
    {
     "data": {
      "text/html": [
       "<div>\n",
       "<style scoped>\n",
       "    .dataframe tbody tr th:only-of-type {\n",
       "        vertical-align: middle;\n",
       "    }\n",
       "\n",
       "    .dataframe tbody tr th {\n",
       "        vertical-align: top;\n",
       "    }\n",
       "\n",
       "    .dataframe thead th {\n",
       "        text-align: right;\n",
       "    }\n",
       "</style>\n",
       "<table border=\"1\" class=\"dataframe\">\n",
       "  <thead>\n",
       "    <tr style=\"text-align: right;\">\n",
       "      <th></th>\n",
       "      <th>Jugador</th>\n",
       "      <th>Altura</th>\n",
       "      <th>Goles</th>\n",
       "    </tr>\n",
       "  </thead>\n",
       "  <tbody>\n",
       "    <tr>\n",
       "      <th>1</th>\n",
       "      <td>Navas</td>\n",
       "      <td>183.0</td>\n",
       "      <td>2</td>\n",
       "    </tr>\n",
       "    <tr>\n",
       "      <th>7</th>\n",
       "      <td>Mbappe</td>\n",
       "      <td>170.0</td>\n",
       "      <td>200</td>\n",
       "    </tr>\n",
       "    <tr>\n",
       "      <th>10</th>\n",
       "      <td>Neymar</td>\n",
       "      <td>170.0</td>\n",
       "      <td>200</td>\n",
       "    </tr>\n",
       "    <tr>\n",
       "      <th>30</th>\n",
       "      <td>Messi</td>\n",
       "      <td>165.0</td>\n",
       "      <td>200</td>\n",
       "    </tr>\n",
       "  </tbody>\n",
       "</table>\n",
       "</div>"
      ],
      "text/plain": [
       "   Jugador  Altura  Goles\n",
       "1    Navas   183.0      2\n",
       "7   Mbappe   170.0    200\n",
       "10  Neymar   170.0    200\n",
       "30   Messi   165.0    200"
      ]
     },
     "execution_count": 13,
     "metadata": {},
     "output_type": "execute_result"
    }
   ],
   "source": [
    "pd.DataFrame(dicct2, index=[1, 7, 10, 30])"
   ]
  },
  {
   "cell_type": "markdown",
   "id": "4ddb9ae3",
   "metadata": {},
   "source": [
    "## Indexing & Slicing"
   ]
  },
  {
   "cell_type": "code",
   "execution_count": 14,
   "id": "293a9744",
   "metadata": {},
   "outputs": [],
   "source": [
    "df_players_index = pd.DataFrame(dicct2, index=[1, 7, 10, 30])\n",
    "df_players_noindex = pd.DataFrame(dicct2)"
   ]
  },
  {
   "cell_type": "markdown",
   "id": "9731fa5b",
   "metadata": {},
   "source": [
    "**Método \"Index\"**, indice a nivel de indices"
   ]
  },
  {
   "cell_type": "code",
   "execution_count": 15,
   "id": "d7b23b47",
   "metadata": {},
   "outputs": [
    {
     "data": {
      "text/plain": [
       "Int64Index([1, 7, 10, 30], dtype='int64')"
      ]
     },
     "execution_count": 15,
     "metadata": {},
     "output_type": "execute_result"
    }
   ],
   "source": [
    "df_players_index.index"
   ]
  },
  {
   "cell_type": "code",
   "execution_count": 16,
   "id": "cb02f153",
   "metadata": {},
   "outputs": [
    {
     "data": {
      "text/plain": [
       "RangeIndex(start=0, stop=4, step=1)"
      ]
     },
     "execution_count": 16,
     "metadata": {},
     "output_type": "execute_result"
    }
   ],
   "source": [
    "df_players_noindex.index"
   ]
  },
  {
   "cell_type": "markdown",
   "id": "6f403bae",
   "metadata": {},
   "source": [
    "**Método \"Columns\"**, indice a nivel de columna"
   ]
  },
  {
   "cell_type": "code",
   "execution_count": 17,
   "id": "cdb47fd6",
   "metadata": {
    "scrolled": false
   },
   "outputs": [
    {
     "data": {
      "text/plain": [
       "Index(['Jugador', 'Altura', 'Goles'], dtype='object')"
      ]
     },
     "execution_count": 17,
     "metadata": {},
     "output_type": "execute_result"
    }
   ],
   "source": [
    "df_players_index.columns"
   ]
  },
  {
   "cell_type": "code",
   "execution_count": 18,
   "id": "da3fb51d",
   "metadata": {},
   "outputs": [
    {
     "data": {
      "text/plain": [
       "Index(['Jugador', 'Altura', 'Goles'], dtype='object')"
      ]
     },
     "execution_count": 18,
     "metadata": {},
     "output_type": "execute_result"
    }
   ],
   "source": [
    "df_players_noindex.columns"
   ]
  }
 ],
 "metadata": {
  "kernelspec": {
   "display_name": "Python 3 (ipykernel)",
   "language": "python",
   "name": "python3"
  },
  "language_info": {
   "codemirror_mode": {
    "name": "ipython",
    "version": 3
   },
   "file_extension": ".py",
   "mimetype": "text/x-python",
   "name": "python",
   "nbconvert_exporter": "python",
   "pygments_lexer": "ipython3",
   "version": "3.10.8"
  }
 },
 "nbformat": 4,
 "nbformat_minor": 5
}
