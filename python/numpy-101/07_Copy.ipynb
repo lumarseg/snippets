{
 "cells": [
  {
   "cell_type": "code",
   "execution_count": 1,
   "id": "fd92b577",
   "metadata": {},
   "outputs": [],
   "source": [
    "import numpy as np"
   ]
  },
  {
   "cell_type": "code",
   "execution_count": 2,
   "id": "5bc5f752",
   "metadata": {
    "scrolled": true
   },
   "outputs": [
    {
     "name": "stdout",
     "output_type": "stream",
     "text": [
      "[ 0  1  2  3  4  5  6  7  8  9 10]\n"
     ]
    }
   ],
   "source": [
    "arr = np.arange(0,11)\n",
    "print(arr)"
   ]
  },
  {
   "cell_type": "code",
   "execution_count": 3,
   "id": "44f76bf7",
   "metadata": {},
   "outputs": [
    {
     "name": "stdout",
     "output_type": "stream",
     "text": [
      "[0 1 2 3 4 5]\n"
     ]
    }
   ],
   "source": [
    "trozo_de_arr = arr[0:6]\n",
    "print(trozo_de_arr)"
   ]
  },
  {
   "cell_type": "code",
   "execution_count": 4,
   "id": "f843bd77",
   "metadata": {},
   "outputs": [
    {
     "name": "stdout",
     "output_type": "stream",
     "text": [
      "[0 0 0 0 0 0]\n"
     ]
    }
   ],
   "source": [
    "trozo_de_arr[:] = 0\n",
    "print(trozo_de_arr)"
   ]
  },
  {
   "cell_type": "code",
   "execution_count": 5,
   "id": "67e1e974",
   "metadata": {},
   "outputs": [
    {
     "data": {
      "text/plain": [
       "array([ 0,  0,  0,  0,  0,  0,  6,  7,  8,  9, 10])"
      ]
     },
     "execution_count": 5,
     "metadata": {},
     "output_type": "execute_result"
    }
   ],
   "source": [
    "arr"
   ]
  },
  {
   "cell_type": "markdown",
   "id": "4ba07c1c",
   "metadata": {},
   "source": [
    "Se dañó el arreglo!!!\n"
   ]
  },
  {
   "cell_type": "code",
   "execution_count": 6,
   "id": "7eead38c",
   "metadata": {},
   "outputs": [
    {
     "name": "stdout",
     "output_type": "stream",
     "text": [
      "[ 0  0  0  0  0  0  6  7  8  9 10]\n",
      "[100 100 100 100 100 100 100 100 100 100 100]\n",
      "[ 0  0  0  0  0  0  6  7  8  9 10]\n"
     ]
    }
   ],
   "source": [
    "arr_copy = arr.copy()\n",
    "print(arr_copy)\n",
    "\n",
    "arr_copy[:] = 100\n",
    "print(arr_copy)\n",
    "\n",
    "print(arr)"
   ]
  },
  {
   "cell_type": "markdown",
   "id": "63974f27",
   "metadata": {},
   "source": [
    "Se mantuvo la integridad de \"arr\". !!!"
   ]
  },
  {
   "cell_type": "code",
   "execution_count": null,
   "id": "2272b7cf",
   "metadata": {},
   "outputs": [],
   "source": []
  }
 ],
 "metadata": {
  "kernelspec": {
   "display_name": "Python 3 (ipykernel)",
   "language": "python",
   "name": "python3"
  },
  "language_info": {
   "codemirror_mode": {
    "name": "ipython",
    "version": 3
   },
   "file_extension": ".py",
   "mimetype": "text/x-python",
   "name": "python",
   "nbconvert_exporter": "python",
   "pygments_lexer": "ipython3",
   "version": "3.10.8"
  }
 },
 "nbformat": 4,
 "nbformat_minor": 5
}
