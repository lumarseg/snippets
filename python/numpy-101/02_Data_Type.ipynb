{
 "cells": [
  {
   "cell_type": "markdown",
   "id": "67624e89",
   "metadata": {},
   "source": [
    "# Data types"
   ]
  },
  {
   "cell_type": "markdown",
   "id": "62ba34fc",
   "metadata": {},
   "source": [
    "NumPy proporciona un conjunto de tipos de datos que se pueden utilizar para especificar el tipo de datos de los elementos de un array. Algunos de los tipos de datos más comunes en NumPy son:\n",
    "\n",
    "* bool: representa valores booleanos (verdadero o falso).\n",
    "* int8: representa números enteros de 8 bits con signo.\n",
    "* int16: representa números enteros de 16 bits con signo.\n",
    "* int32: representa números enteros de 32 bits con signo.\n",
    "* int64: representa números enteros de 64 bits con signo.\n",
    "* uint8: representa números enteros sin signo de 8 bits.\n",
    "* uint16: representa números enteros sin signo de 16 bits.\n",
    "* uint32: representa números enteros sin signo de 32 bits.\n",
    "* uint64: representa números enteros sin signo de 64 bits.\n",
    "* float16: representa números de punto flotante de 16 bits.\n",
    "* float32: representa números de punto flotante de 32 bits (también conocidos como \"float\").\n",
    "* float64: representa números de punto flotante"
   ]
  },
  {
   "cell_type": "code",
   "execution_count": 1,
   "id": "6d02c994",
   "metadata": {},
   "outputs": [],
   "source": [
    "import numpy as np"
   ]
  },
  {
   "cell_type": "markdown",
   "id": "5030a506",
   "metadata": {},
   "source": [
    "## INT"
   ]
  },
  {
   "cell_type": "code",
   "execution_count": 11,
   "id": "3945c5b5",
   "metadata": {},
   "outputs": [
    {
     "name": "stdout",
     "output_type": "stream",
     "text": [
      "[1 2 3 4]\n"
     ]
    }
   ],
   "source": [
    "arr = np.array([1,2,3,4])\n",
    "print(arr)"
   ]
  },
  {
   "cell_type": "code",
   "execution_count": 13,
   "id": "d9fb1580",
   "metadata": {},
   "outputs": [
    {
     "data": {
      "text/plain": [
       "array([1, 2, 3, 4])"
      ]
     },
     "execution_count": 13,
     "metadata": {},
     "output_type": "execute_result"
    }
   ],
   "source": [
    "arr"
   ]
  },
  {
   "cell_type": "code",
   "execution_count": 14,
   "id": "086d2f18",
   "metadata": {},
   "outputs": [
    {
     "data": {
      "text/plain": [
       "dtype('int64')"
      ]
     },
     "execution_count": 14,
     "metadata": {},
     "output_type": "execute_result"
    }
   ],
   "source": [
    "arr.dtype"
   ]
  },
  {
   "cell_type": "markdown",
   "id": "c21f79c3",
   "metadata": {},
   "source": [
    "Qué pasa si el tipo de dato no se ajusta a lo que necesitamos ?"
   ]
  },
  {
   "cell_type": "markdown",
   "id": "b6c97ff8",
   "metadata": {},
   "source": [
    "## FLOAT"
   ]
  },
  {
   "cell_type": "code",
   "execution_count": 15,
   "id": "fc9477ba",
   "metadata": {},
   "outputs": [
    {
     "name": "stdout",
     "output_type": "stream",
     "text": [
      "[1. 2. 3. 4.]\n"
     ]
    }
   ],
   "source": [
    "arr1 = np.array([1,2,3,4], dtype='float64')\n",
    "print(arr1)"
   ]
  },
  {
   "cell_type": "code",
   "execution_count": 16,
   "id": "e42fb39e",
   "metadata": {},
   "outputs": [
    {
     "data": {
      "text/plain": [
       "array([1., 2., 3., 4.])"
      ]
     },
     "execution_count": 16,
     "metadata": {},
     "output_type": "execute_result"
    }
   ],
   "source": [
    "arr1"
   ]
  },
  {
   "cell_type": "code",
   "execution_count": 17,
   "id": "2aeed319",
   "metadata": {},
   "outputs": [
    {
     "data": {
      "text/plain": [
       "dtype('float64')"
      ]
     },
     "execution_count": 17,
     "metadata": {},
     "output_type": "execute_result"
    }
   ],
   "source": [
    "arr1.dtype"
   ]
  },
  {
   "cell_type": "markdown",
   "id": "2950106b",
   "metadata": {},
   "source": [
    "Para cambia el tipo de dato..."
   ]
  },
  {
   "cell_type": "code",
   "execution_count": 18,
   "id": "8e481303",
   "metadata": {},
   "outputs": [
    {
     "data": {
      "text/plain": [
       "array([1, 2, 3, 4])"
      ]
     },
     "execution_count": 18,
     "metadata": {},
     "output_type": "execute_result"
    }
   ],
   "source": [
    "arr"
   ]
  },
  {
   "cell_type": "code",
   "execution_count": 19,
   "id": "a9e6a608",
   "metadata": {},
   "outputs": [
    {
     "data": {
      "text/plain": [
       "array([1., 2., 3., 4.])"
      ]
     },
     "execution_count": 19,
     "metadata": {},
     "output_type": "execute_result"
    }
   ],
   "source": [
    "arr.astype(np.float64)"
   ]
  },
  {
   "cell_type": "markdown",
   "id": "5f7f7fe4",
   "metadata": {},
   "source": [
    "Veamos otro cambio"
   ]
  },
  {
   "cell_type": "code",
   "execution_count": 20,
   "id": "4666cb22",
   "metadata": {},
   "outputs": [
    {
     "data": {
      "text/plain": [
       "array([False,  True,  True,  True,  True])"
      ]
     },
     "execution_count": 20,
     "metadata": {},
     "output_type": "execute_result"
    }
   ],
   "source": [
    "arr2 = np.array([0, 1, 2, 3, 4])\n",
    "arr2 = arr2.astype(np.bool_)\n",
    "arr2"
   ]
  },
  {
   "cell_type": "code",
   "execution_count": 22,
   "id": "3755ffde",
   "metadata": {},
   "outputs": [
    {
     "data": {
      "text/plain": [
       "array([b'0', b'1', b'2', b'3', b'4'], dtype='|S21')"
      ]
     },
     "execution_count": 22,
     "metadata": {},
     "output_type": "execute_result"
    }
   ],
   "source": [
    "arr3 = np.array([0, 1, 2, 3, 4])\n",
    "arr3 = arr3.astype(np.string_)\n",
    "arr3"
   ]
  },
  {
   "cell_type": "code",
   "execution_count": 23,
   "id": "019b31e9",
   "metadata": {},
   "outputs": [
    {
     "data": {
      "text/plain": [
       "array([0, 1, 2, 3, 4], dtype=int8)"
      ]
     },
     "execution_count": 23,
     "metadata": {},
     "output_type": "execute_result"
    }
   ],
   "source": [
    "arr4 = np.array([\"0\", \"1\", \"2\", \"3\", \"4\"])\n",
    "arr4 = arr4.astype(np.int8)\n",
    "arr4"
   ]
  },
  {
   "cell_type": "markdown",
   "id": "22ee80cd",
   "metadata": {},
   "source": [
    "Mas información sobre tipos de datos: https://numpy.org/doc/stable/user/basics.types.html"
   ]
  },
  {
   "cell_type": "code",
   "execution_count": null,
   "id": "549ea8d0",
   "metadata": {},
   "outputs": [],
   "source": []
  }
 ],
 "metadata": {
  "kernelspec": {
   "display_name": "Python 3 (ipykernel)",
   "language": "python",
   "name": "python3"
  },
  "language_info": {
   "codemirror_mode": {
    "name": "ipython",
    "version": 3
   },
   "file_extension": ".py",
   "mimetype": "text/x-python",
   "name": "python",
   "nbconvert_exporter": "python",
   "pygments_lexer": "ipython3",
   "version": "3.10.8"
  }
 },
 "nbformat": 4,
 "nbformat_minor": 5
}
