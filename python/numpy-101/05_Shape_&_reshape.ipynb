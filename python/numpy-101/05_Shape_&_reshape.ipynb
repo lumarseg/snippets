{
 "cells": [
  {
   "cell_type": "markdown",
   "id": "bc8d6b77",
   "metadata": {},
   "source": [
    "# Shape & Reshape\n"
   ]
  },
  {
   "cell_type": "code",
   "execution_count": 1,
   "id": "69e004ba",
   "metadata": {},
   "outputs": [],
   "source": [
    "import numpy as np"
   ]
  },
  {
   "cell_type": "markdown",
   "id": "a26dc150",
   "metadata": {},
   "source": [
    "Crear un arreglo llamado \"arr\", con numeros aleatoreos de 1 a 10 (sin incluir 10), con una forma de 3 filas, 2 columnas."
   ]
  },
  {
   "cell_type": "code",
   "execution_count": 2,
   "id": "49bf6235",
   "metadata": {},
   "outputs": [
    {
     "name": "stdout",
     "output_type": "stream",
     "text": [
      "[[8 7]\n",
      " [3 3]\n",
      " [1 3]]\n"
     ]
    }
   ],
   "source": [
    "arr = np.random.randint(1, 10, (3,2))\n",
    "print(arr)"
   ]
  },
  {
   "cell_type": "code",
   "execution_count": 3,
   "id": "94bcc68e",
   "metadata": {},
   "outputs": [
    {
     "data": {
      "text/plain": [
       "(3, 2)"
      ]
     },
     "execution_count": 3,
     "metadata": {},
     "output_type": "execute_result"
    }
   ],
   "source": [
    "arr.shape"
   ]
  },
  {
   "cell_type": "markdown",
   "id": "58b38268",
   "metadata": {},
   "source": [
    "Cambiar la forma de \"arr\" a una fila, 6 columnas."
   ]
  },
  {
   "cell_type": "code",
   "execution_count": 4,
   "id": "b0640164",
   "metadata": {},
   "outputs": [
    {
     "data": {
      "text/plain": [
       "array([[8, 7, 3, 3, 1, 3]])"
      ]
     },
     "execution_count": 4,
     "metadata": {},
     "output_type": "execute_result"
    }
   ],
   "source": [
    "arr.reshape(1,6)"
   ]
  },
  {
   "cell_type": "markdown",
   "id": "25928e17",
   "metadata": {},
   "source": [
    "Cambiar la forma de \"arr\" a dos filas, 3 columnas."
   ]
  },
  {
   "cell_type": "code",
   "execution_count": 5,
   "id": "7a612313",
   "metadata": {},
   "outputs": [
    {
     "data": {
      "text/plain": [
       "array([[8, 7, 3],\n",
       "       [3, 1, 3]])"
      ]
     },
     "execution_count": 5,
     "metadata": {},
     "output_type": "execute_result"
    }
   ],
   "source": [
    "arr.reshape(2,3)"
   ]
  },
  {
   "cell_type": "markdown",
   "id": "a5723ac2",
   "metadata": {},
   "source": [
    "El método **numpy.reshape()** es una función de la librería de Python **NumPy** que permite cambiar la forma o el tamaño de una matriz o un vector. En este caso, el código **np.reshape(arr, (1,6))** está cambiando la forma del array arr a una matriz de una fila y seis columnas.\n",
    "\n",
    "La función numpy.reshape() toma dos argumentos:\n",
    "\n",
    "**arr:** es el array que queremos cambiar de forma.\n",
    "**(1,6)**: es una tupla que indica la forma deseada para el array. En este caso, se está especificando una matriz con una fila y seis columnas."
   ]
  },
  {
   "cell_type": "code",
   "execution_count": 6,
   "id": "4d3275bc",
   "metadata": {},
   "outputs": [
    {
     "data": {
      "text/plain": [
       "array([[8, 7, 3, 3, 1, 3]])"
      ]
     },
     "execution_count": 6,
     "metadata": {},
     "output_type": "execute_result"
    }
   ],
   "source": [
    "np.reshape(arr, (1,6))"
   ]
  },
  {
   "cell_type": "code",
   "execution_count": 7,
   "id": "59023c81",
   "metadata": {},
   "outputs": [
    {
     "data": {
      "text/plain": [
       "array([[8, 7],\n",
       "       [3, 3],\n",
       "       [1, 3]])"
      ]
     },
     "execution_count": 7,
     "metadata": {},
     "output_type": "execute_result"
    }
   ],
   "source": [
    "arr"
   ]
  },
  {
   "cell_type": "code",
   "execution_count": 9,
   "id": "b3775b40",
   "metadata": {},
   "outputs": [
    {
     "data": {
      "text/plain": [
       "array([[8, 7, 3],\n",
       "       [3, 1, 3]])"
      ]
     },
     "execution_count": 9,
     "metadata": {},
     "output_type": "execute_result"
    }
   ],
   "source": [
    "np.reshape(arr, (2,3), \"C\")"
   ]
  },
  {
   "cell_type": "code",
   "execution_count": 10,
   "id": "ad9cf094",
   "metadata": {},
   "outputs": [
    {
     "data": {
      "text/plain": [
       "array([[8, 1, 3],\n",
       "       [3, 7, 3]])"
      ]
     },
     "execution_count": 10,
     "metadata": {},
     "output_type": "execute_result"
    }
   ],
   "source": [
    "np.reshape(arr, (2,3), \"F\")"
   ]
  },
  {
   "cell_type": "code",
   "execution_count": 14,
   "id": "88f9a3d5",
   "metadata": {},
   "outputs": [
    {
     "data": {
      "text/plain": [
       "array([[8, 7, 3],\n",
       "       [3, 1, 3]])"
      ]
     },
     "execution_count": 14,
     "metadata": {},
     "output_type": "execute_result"
    }
   ],
   "source": [
    "np.reshape(arr, (2,3), \"A\")"
   ]
  }
 ],
 "metadata": {
  "kernelspec": {
   "display_name": "Python 3 (ipykernel)",
   "language": "python",
   "name": "python3"
  },
  "language_info": {
   "codemirror_mode": {
    "name": "ipython",
    "version": 3
   },
   "file_extension": ".py",
   "mimetype": "text/x-python",
   "name": "python",
   "nbconvert_exporter": "python",
   "pygments_lexer": "ipython3",
   "version": "3.10.8"
  }
 },
 "nbformat": 4,
 "nbformat_minor": 5
}
