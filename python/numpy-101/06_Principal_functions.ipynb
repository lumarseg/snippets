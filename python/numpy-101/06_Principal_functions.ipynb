{
 "cells": [
  {
   "cell_type": "markdown",
   "id": "dd4f664b",
   "metadata": {},
   "source": [
    "# Funciones Principales en Numpy"
   ]
  },
  {
   "cell_type": "markdown",
   "id": "db54d519",
   "metadata": {},
   "source": [
    "Algunas de las funciones más comunes de NumPy son:\n",
    "\n",
    "1. **np.array**: permite crear un arreglo NumPy a partir de una lista o tupla de Python.\n",
    "2. **np.zeros**: permite crear un arreglo NumPy de ceros con una forma dada.\n",
    "3. **np.ones**: permite crear un arreglo NumPy de unos con una forma dada.\n",
    "4. **np.arange**: permite crear un arreglo NumPy con un rango de valores específico.\n",
    "5. **np.linspace**: permite crear un arreglo NumPy con un número específico de elementos en un rango dado.\n",
    "6. **np.random.rand**: permite crear un arreglo NumPy con valores aleatorios en el intervalo [0, 1].\n",
    "7. **np.random.randn**: permite crear un arreglo NumPy con valores aleatorios que siguen una distribución normal estándar.\n",
    "8. **np.empty**: permite crear un arreglo NumPy sin inicializar sus elementos.\n",
    "9. **np.eye**: permite crear una matriz identidad NumPy.\n",
    "10. **np.full**: permite crear un arreglo NumPy con un valor específico en todos sus elementos.\n",
    "\n",
    "Veamos algunos ejemplos en el siguiente códido:"
   ]
  },
  {
   "cell_type": "code",
   "execution_count": 1,
   "id": "7c213c5b",
   "metadata": {},
   "outputs": [],
   "source": [
    "# importamos la librería numpy\n",
    "import numpy as np"
   ]
  },
  {
   "cell_type": "code",
   "execution_count": 2,
   "id": "09cab50b",
   "metadata": {},
   "outputs": [
    {
     "name": "stdout",
     "output_type": "stream",
     "text": [
      "[ 3 15  1 14 15  7 10 11 10 15]\n"
     ]
    }
   ],
   "source": [
    "# generamos un arreglo de 10 números aleatorios enteros entre 1 y 20\n",
    "arr = np.random.randint(1, 20, 10)\n",
    "print(arr)"
   ]
  },
  {
   "cell_type": "code",
   "execution_count": 3,
   "id": "d3e4da4a",
   "metadata": {},
   "outputs": [
    {
     "name": "stdout",
     "output_type": "stream",
     "text": [
      "[[ 3 15  1 14 15]\n",
      " [ 7 10 11 10 15]]\n"
     ]
    }
   ],
   "source": [
    "# convertimos el arreglo en una matriz de 2 filas y 5 columnas\n",
    "matriz = arr.reshape(2,5)\n",
    "print(matriz)"
   ]
  },
  {
   "cell_type": "code",
   "execution_count": 4,
   "id": "5a67e023",
   "metadata": {},
   "outputs": [
    {
     "name": "stdout",
     "output_type": "stream",
     "text": [
      "[ 3 15  1 14 15  7 10 11 10 15]\n",
      "==========\n",
      "15 --> valor máximo del arreglo\n",
      "----------\n",
      "1\n",
      "==========\n",
      "1 --> valor mínimo del arreglo\n",
      "----------\n",
      "2\n",
      "==========\n",
      "14 --> rango entre valores: máximo y mínimo\n",
      "==========\n",
      "[ 1  3  7 10 10 11 14 15 15 15] --> arreglo ordenado de menor a mayor\n",
      "10.5 --> percentil 50 del arreglo (mediana)\n",
      "10.5 --> mediana del arreglo\n",
      "4.805205510693585 --> desviación estandar\n",
      "23.089999999999996 --> varianza\n",
      "10.1 --> promedio\n"
     ]
    }
   ],
   "source": [
    "# imprimimos el arreglo original\n",
    "print(arr)\n",
    "print(\"=\"*10)\n",
    "\n",
    "# imprimimos el valor máximo del arreglo\n",
    "print(arr.max(), \"--> valor máximo del arreglo\")\n",
    "print(\"-\"*10)\n",
    "\n",
    "# imprimimos el índice del valor máximo del arreglo (si hay varios, toma el menor índice)\n",
    "print(arr.argmax())\n",
    "print(\"=\"*10)\n",
    "\n",
    "# imprimimos el valor mínimo del arreglo\n",
    "print(arr.min(), \"--> valor mínimo del arreglo\")\n",
    "print(\"-\"*10)\n",
    "\n",
    "# imprimimos el índice del valor mínimo del arreglo (si hay varios, toma el menor índice)\n",
    "print(arr.argmin())\n",
    "print(\"=\"*10)\n",
    "\n",
    "# obtenemos el rango del arreglo (valor máximo - valor mínimo)\n",
    "print(arr.ptp(), \"--> rango entre valores: máximo y mínimo\")\n",
    "print(\"=\"*10)\n",
    "\n",
    "# obtenemos el percentil 50 (mediana) del arreglo \"arr\"\n",
    "print(np.sort(arr), \"--> arreglo ordenado de menor a mayor\")\n",
    "print(np.percentile(arr,50), \"--> percentil 50 del arreglo (mediana)\")\n",
    "\n",
    "# obtenemos la mediana del arreglo con la función median de numpy\n",
    "print(np.median(arr), \"--> mediana del arreglo\")\n",
    "\n",
    "# imprimimos la desviación estándar del arreglo\n",
    "print(np.std(arr), \"--> desviación estandar\")\n",
    "\n",
    "# imprimimos la varianza del arreglo\n",
    "print(np.var(arr), \"--> varianza\")\n",
    "\n",
    "# imprimimos el promedio (media) del arreglo\n",
    "print(np.mean(arr), \"--> promedio\")"
   ]
  },
  {
   "cell_type": "markdown",
   "id": "a43b580b",
   "metadata": {},
   "source": [
    "La función **ptp** de NumPy (peak-to-peak) nos permite obtener el rango de un arreglo, es decir, la diferencia entre el valor máximo y el valor mínimo del arreglo.\n",
    "\n",
    "La función **percentile** de NumPy nos permite obtener el percentil de un arreglo dado, es decir, el valor del arreglo que se encuentra en una posición dada en términos de porcentaje. \n",
    "\n",
    "La función **median** de NumPy nos permite obtener la mediana de un arreglo, es decir, el valor que se encuentra en la mitad del arreglo (si está ordenado).\n",
    "\n",
    "La función **std** de NumPy nos permite obtener la desviación estándar de un arreglo, que es una medida de dispersión que nos indica cuánto varían los valores del arreglo respecto a la media. \n",
    "\n",
    "La función **var** de NumPy nos permite obtener la varianza de un arreglo, que es otra medida de dispersión que nos indica cuánto varían los valores del arreglo respecto a la media.\n",
    "\n",
    "La función **mean** de NumPy nos permite obtener el promedio de un arreglo, que es la suma de todos los valores del arreglo dividida por el número de elementos."
   ]
  },
  {
   "cell_type": "code",
   "execution_count": 5,
   "id": "67ebb8ee",
   "metadata": {},
   "outputs": [
    {
     "name": "stdout",
     "output_type": "stream",
     "text": [
      "[[ 3 15  1 14 15]\n",
      " [ 7 10 11 10 15]]\n",
      "==========\n",
      "15 --> valor máximo de la matriz\n",
      "----------\n",
      "1\n",
      "==========\n",
      "1 --> valor mínimo de la matriz\n",
      "----------\n",
      "2\n",
      "==========\n",
      "14 --> valor ptp de la matriz\n",
      "==========\n",
      "[[ 1  3 14 15 15]\n",
      " [ 7 10 10 11 15]] --> arreglo ordenado de menor a mayor por cada fila\n",
      "10.5 --> percentil 50 del arreglo (mediana)\n",
      "10.5 --> mediana del arreglo\n",
      "4.805205510693585 --> desviación estandar\n",
      "23.089999999999996 --> varianza\n",
      "10.1 --> promedio\n"
     ]
    }
   ],
   "source": [
    "# imprimimos la matriz\n",
    "print(matriz)\n",
    "print(\"=\"*10)\n",
    "\n",
    "# imprimimos el valor máximo de la matriz\n",
    "print(matriz.max(), \"--> valor máximo de la matriz\")\n",
    "print(\"-\"*10)\n",
    "\n",
    "# imprimimos el índice del valor máximo de la matriz\n",
    "print(matriz.argmax())\n",
    "print(\"=\"*10)\n",
    "\n",
    "# imprimimos el valor mínimo de la matriz\n",
    "print(matriz.min(), \"--> valor mínimo de la matriz\")\n",
    "print(\"-\"*10)\n",
    "\n",
    "# imprimimos el índice del valor mínimo de la matriz\n",
    "print(matriz.argmin())\n",
    "print(\"=\"*10)\n",
    "\n",
    "# obtenemos el rango de la matriz (valor máximo - valor mínimo)\n",
    "print(matriz.ptp(), \"--> valor ptp de la matriz\")\n",
    "print(\"=\"*10)\n",
    "\n",
    "# obtenemos el percentil 50 (mediana) de la matriz\n",
    "print(np.sort(matriz), \"--> arreglo ordenado de menor a mayor por cada fila\")\n",
    "print(np.percentile(matriz,50), \"--> percentil 50 del arreglo (mediana)\")\n",
    "\n",
    "# obtenemos la mediana de la matriz con la función median de numpy\n",
    "print(np.median(matriz), \"--> mediana del arreglo\")\n",
    "\n",
    "# imprimimos la desviación estándar de la matriz\n",
    "print(np.std(matriz), \"--> desviación estandar\")\n",
    "\n",
    "# imprimimos la varianza de la matriz\n",
    "print(np.var(arr), \"--> varianza\")\n",
    "\n",
    "# imprimimos el promedio (media) de la matriz\n",
    "print(np.mean(matriz), \"--> promedio\")"
   ]
  },
  {
   "cell_type": "code",
   "execution_count": 6,
   "id": "3cc6c1cf",
   "metadata": {},
   "outputs": [
    {
     "name": "stdout",
     "output_type": "stream",
     "text": [
      "[[ 3 15  1 14 15]\n",
      " [ 7 10 11 10 15]]\n",
      "==========\n",
      "[ 7 15 11 14 15] --> valor máximo x columna\n",
      "----------\n",
      "[1 0 1 0 0] --> indice de fila del valor máximo para cada columna de la matriz\n",
      "==========\n",
      "[ 3 10  1 10 15] --> valor mínimo x columna\n",
      "----------\n",
      "[0 1 0 1 0] --> indice de fila del valor mínimo para cada columna de la matriz\n",
      "==========\n",
      "[ 4  5 10  4  0] --> valor ptp de la matriz por cada columna de la matriz\n",
      "==========\n",
      "[[ 3 10  1 10 15]\n",
      " [ 7 15 11 14 15]] --> arreglo ordenado de menor a mayor por cada columna\n",
      "10.5 --> percentil 50 del arreglo (mediana)\n",
      "10.5 --> mediana del arreglo\n",
      "4.805205510693585 --> desviación estandar\n",
      "23.089999999999996 --> varianza\n",
      "10.1 --> promedio\n"
     ]
    }
   ],
   "source": [
    "# volvemos a imprimir la matriz\n",
    "print(matriz)\n",
    "print(\"=\"*10)\n",
    "\n",
    "# imprimimos el valor máximo de cada columna de la matriz\n",
    "print(matriz.max(0), \"--> valor máximo x columna\")\n",
    "print(\"-\"*10)\n",
    "\n",
    "# imprimimos el índice de fila del valor máximo para cada columna de la matriz\n",
    "print((matriz.argmax(0)), \"--> indice de fila del valor máximo para cada columna de la matriz\")\n",
    "print(\"=\"*10)\n",
    "\n",
    "# imprimimos el valor mínimo de cada columna de la matriz\n",
    "print(matriz.min(0), \"--> valor mínimo x columna\")\n",
    "print(\"-\"*10)\n",
    "\n",
    "# imprimimos el índice de fila del valor máximo de cada columna de la matriz\n",
    "print((matriz.argmin(0)), \"--> indice de fila del valor mínimo para cada columna de la matriz\")\n",
    "print(\"=\"*10)\n",
    "\n",
    "# obtenemos el rango de la matriz (valor máximo - valor mínimo)\n",
    "print(matriz.ptp(0), \"--> valor ptp de la matriz por cada columna de la matriz\")\n",
    "print(\"=\"*10)\n",
    "\n",
    "# obtenemos el percentil 50 (mediana) de la matriz\n",
    "print(np.sort(matriz,0), \"--> arreglo ordenado de menor a mayor por cada columna\")\n",
    "print(np.percentile(matriz,50), \"--> percentil 50 del arreglo (mediana)\")\n",
    "\n",
    "# obtenemos la mediana de la matriz con la función median de numpy\n",
    "print(np.median(matriz), \"--> mediana del arreglo\")\n",
    "\n",
    "# imprimimos la desviación estándar de la matriz\n",
    "print(np.std(matriz), \"--> desviación estandar\")\n",
    "\n",
    "# imprimimos la varianza de la matriz\n",
    "print(np.var(arr), \"--> varianza\")\n",
    "\n",
    "# imprimimos el promedio (media) de la matriz\n",
    "print(np.mean(matriz), \"--> promedio\")"
   ]
  },
  {
   "cell_type": "code",
   "execution_count": 7,
   "id": "3cfb8994",
   "metadata": {},
   "outputs": [
    {
     "name": "stdout",
     "output_type": "stream",
     "text": [
      "[[ 3 15  1 14 15]\n",
      " [ 7 10 11 10 15]]\n",
      "==========\n",
      "[15 15] --> valor máximo x fila\n",
      "----------\n",
      "[1 4] --> indice de columna del valor máximo para cada fila de la matriz\n",
      "==========\n",
      "[1 7] --> valor mínimo x fila\n",
      "----------\n",
      "[2 0] --> indice de columna del valor mínimo para cada fila de la matriz\n",
      "==========\n",
      "[14  8] --> valor ptp de la matriz por cada fila de la matriz\n",
      "==========\n",
      "[[ 1  3 14 15 15]\n",
      " [ 7 10 10 11 15]] --> arreglo ordenado de menor a mayor por cada fila\n",
      "10.5 --> percentil 50 del arreglo (mediana)\n",
      "10.5 --> mediana del arreglo\n",
      "4.805205510693585 --> desviación estandar\n",
      "23.089999999999996 --> varianza\n",
      "10.1 --> promedio\n"
     ]
    }
   ],
   "source": [
    "# volvemos a imprimir la matriz\n",
    "print(matriz)\n",
    "print(\"=\"*10)\n",
    "\n",
    "# imprimimos el valor máximo de cada fila de la matriz\n",
    "print(matriz.max(1), \"--> valor máximo x fila\")\n",
    "print(\"-\"*10)\n",
    "\n",
    "# imprimimos el índice del valor máximo de cada fila de la matriz\n",
    "print(matriz.argmax(1), \"--> indice de columna del valor máximo para cada fila de la matriz\")\n",
    "print(\"=\"*10)\n",
    "\n",
    "# imprimimos el valor mínimo de cada fila de la matriz\n",
    "print(matriz.min(1), \"--> valor mínimo x fila\")\n",
    "print(\"-\"*10)\n",
    "\n",
    "# imprimimos el índice del valor mínimo de cada fila de la matriz\n",
    "print(matriz.argmin(1), \"--> indice de columna del valor mínimo para cada fila de la matriz\")\n",
    "print(\"=\"*10)\n",
    "\n",
    "# obtenemos el rango de la matriz (valor máximo - valor mínimo)\n",
    "print(matriz.ptp(1), \"--> valor ptp de la matriz por cada fila de la matriz\")\n",
    "print(\"=\"*10)\n",
    "\n",
    "# obtenemos el percentil 50 (mediana) de la matriz\n",
    "print(np.sort(matriz,1), \"--> arreglo ordenado de menor a mayor por cada fila\")\n",
    "print(np.percentile(matriz,50), \"--> percentil 50 del arreglo (mediana)\")\n",
    "\n",
    "# obtenemos la mediana de la matriz con la función median de numpy\n",
    "print(np.median(matriz), \"--> mediana del arreglo\")\n",
    "\n",
    "# imprimimos la desviación estándar de la matriz\n",
    "print(np.std(matriz), \"--> desviación estandar\")\n",
    "\n",
    "# imprimimos la varianza de la matriz\n",
    "print(np.var(arr), \"--> varianza\")\n",
    "\n",
    "# imprimimos el promedio (media) de la matriz\n",
    "print(np.mean(matriz), \"--> promedio\")"
   ]
  },
  {
   "cell_type": "markdown",
   "id": "d8bcda40",
   "metadata": {},
   "source": [
    "Concatenate"
   ]
  },
  {
   "cell_type": "code",
   "execution_count": 8,
   "id": "5412a6d8",
   "metadata": {},
   "outputs": [
    {
     "name": "stdout",
     "output_type": "stream",
     "text": [
      "[[1 2]\n",
      " [3 4]]\n",
      "[4 6]\n"
     ]
    },
    {
     "ename": "ValueError",
     "evalue": "all the input arrays must have same number of dimensions, but the array at index 0 has 2 dimension(s) and the array at index 1 has 1 dimension(s)",
     "output_type": "error",
     "traceback": [
      "\u001b[0;31m---------------------------------------------------------------------------\u001b[0m",
      "\u001b[0;31mValueError\u001b[0m                                Traceback (most recent call last)",
      "Cell \u001b[0;32mIn[8], line 7\u001b[0m\n\u001b[1;32m      4\u001b[0m \u001b[38;5;28mprint\u001b[39m(a)\n\u001b[1;32m      5\u001b[0m \u001b[38;5;28mprint\u001b[39m(b)\n\u001b[0;32m----> 7\u001b[0m \u001b[43mnp\u001b[49m\u001b[38;5;241;43m.\u001b[39;49m\u001b[43mconcatenate\u001b[49m\u001b[43m(\u001b[49m\u001b[43m(\u001b[49m\u001b[43ma\u001b[49m\u001b[43m,\u001b[49m\u001b[43mb\u001b[49m\u001b[43m)\u001b[49m\u001b[43m,\u001b[49m\u001b[43m \u001b[49m\u001b[43maxis\u001b[49m\u001b[38;5;241;43m=\u001b[39;49m\u001b[38;5;241;43m0\u001b[39;49m\u001b[43m)\u001b[49m\n",
      "File \u001b[0;32m<__array_function__ internals>:180\u001b[0m, in \u001b[0;36mconcatenate\u001b[0;34m(*args, **kwargs)\u001b[0m\n",
      "\u001b[0;31mValueError\u001b[0m: all the input arrays must have same number of dimensions, but the array at index 0 has 2 dimension(s) and the array at index 1 has 1 dimension(s)"
     ]
    }
   ],
   "source": [
    "a = np.array([[1,2], [3,4]])\n",
    "b = np.array([4,6])\n",
    "\n",
    "print(a)\n",
    "print(b)\n",
    "\n",
    "np.concatenate((a,b), axis=0)"
   ]
  },
  {
   "cell_type": "markdown",
   "id": "a5c3021a",
   "metadata": {},
   "source": [
    "El error que se recibe es debido a que **np.concatenate** espera que ambos arrays tengan el mismo número de dimensiones. En este caso, **\"a\"** tiene dos dimensiones (es un array de dos filas y dos columnas), mientras que **\"b\"** tiene solo una dimensión (es un array de dos elementos).\n",
    "\n",
    "Verifiquemos las dimenciones de **\"a\"** y **\"b\"**..."
   ]
  },
  {
   "cell_type": "code",
   "execution_count": null,
   "id": "443623ac",
   "metadata": {},
   "outputs": [],
   "source": [
    "print(a.ndim, \"--> Dimensión de A\")\n",
    "print(b.ndim, \"--> Dimensión de B\")"
   ]
  },
  {
   "cell_type": "markdown",
   "id": "a3695578",
   "metadata": {},
   "source": [
    "Para solucionar este problema, puedes hacer una de las siguientes cosas:\n",
    "\n",
    "1. Convertir b en un array de dos dimensiones, de la siguiente manera: **b = np.array([[4], [6]])**\n",
    "2. Expandir las dimensiones de b a dos, de la siguiente manera: **b = np.expand_dims(b, axis=0)**\n",
    "3. Usar la función vstack en lugar de concatenate, que permite concatenar dos arrays con diferentes números de dimensiones: **np.vstack((a, b))**"
   ]
  },
  {
   "cell_type": "code",
   "execution_count": 30,
   "id": "0a8685d8",
   "metadata": {},
   "outputs": [
    {
     "name": "stdout",
     "output_type": "stream",
     "text": [
      "[[1 2]\n",
      " [3 4]] --> a\n",
      "[[4 6]] --> b expandido\n",
      "----------\n",
      "[[1 2]\n",
      " [3 4]\n",
      " [4 6]] --> c\n",
      "----------\n",
      "[[1 3 4]\n",
      " [2 4 6]] --> c Transpuesta\n",
      "[[4]\n",
      " [6]] --> b Transpuesta\n",
      "-\n",
      "[[1 3 4 4]\n",
      " [2 4 6 6]] --> d\n"
     ]
    }
   ],
   "source": [
    "a = np.array([[1,2], [3,4]])\n",
    "b = np.array([4,6])\n",
    "\n",
    "# Expandir b a dos dimensiones\n",
    "b = np.expand_dims(b, axis=0)\n",
    "\n",
    "print(a, \"--> a\")\n",
    "print(b, \"--> b expandido\")\n",
    "print(\"-\"*10)\n",
    "\n",
    "# Concatenar a con b.\n",
    "c = np.concatenate((a,b), axis=0)\n",
    "print(c, \"--> c\")\n",
    "print(\"-\"*10)\n",
    "\n",
    "# Concatenar la traspuesta de c con la transpuesta de b en el eje 1\n",
    "print(c.T, \"--> c Transpuesta\")\n",
    "print(b.T, \"--> b Transpuesta\")\n",
    "print(\"-\")\n",
    "d = np.concatenate((c.T,b.T), axis=1)\n",
    "print(d, \"--> d\")\n",
    "\n"
   ]
  },
  {
   "cell_type": "markdown",
   "id": "7033e8a7",
   "metadata": {},
   "source": [
    "En el codigo anterior, en la primera línea, se importa NumPy y se le da el alias \"np\". A continuación, se crean dos arreglos de NumPy, \"a\" y \"b\", con los valores especificados.\n",
    "\n",
    "Luego, se usa la función \"expand_dims\" de NumPy para expandir el arreglo \"b\" a dos dimensiones. Esto se hace especificando el eje \"axis = 0\" como argumento de la función. Esto agrega una dimensión adicional al principio del arreglo \"b\", lo que lo convierte en una matriz de 2 filas y 1 columna en lugar de un vector de longitud 2.\n",
    "\n",
    "A continuación, se imprimen los valores de \"a\" y \"b\" expandido para ver cómo han cambiado.\n",
    "\n",
    "Luego, se usa la función \"concatenate\" de NumPy para concatenar los arreglos \"a\" y \"b\" en el eje \"axis = 0\". Esto combina los arreglos \"a\" y \"b\" en un solo arreglo multidimensional, con \"a\" en la parte superior y \"b\" debajo de él. El resultado se almacena en el arreglo \"c\".\n",
    "\n",
    "Finalmente, se usa la función \"concatenate\" de nuevo para concatenar la traspuesta de \"c\" con la traspuesta de \"b\" en el eje \"axis = 1\". La traspuesta de un arreglo es otro arreglo que tiene las filas y columnas del arreglo original intercambiadas. Por lo tanto, al concatenar la traspuesta de \"c\" con la traspuesta de \"b\", se están concatenando las columnas de \"c\" con las filas de \"b\". El resultado se almacena en el arreglo \"d\"."
   ]
  }
 ],
 "metadata": {
  "kernelspec": {
   "display_name": "Python 3 (ipykernel)",
   "language": "python",
   "name": "python3"
  },
  "language_info": {
   "codemirror_mode": {
    "name": "ipython",
    "version": 3
   },
   "file_extension": ".py",
   "mimetype": "text/x-python",
   "name": "python",
   "nbconvert_exporter": "python",
   "pygments_lexer": "ipython3",
   "version": "3.10.8"
  }
 },
 "nbformat": 4,
 "nbformat_minor": 5
}
