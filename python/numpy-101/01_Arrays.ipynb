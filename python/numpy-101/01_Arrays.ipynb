{
 "cells": [
  {
   "cell_type": "markdown",
   "id": "39316a13",
   "metadata": {},
   "source": [
    "# Array"
   ]
  },
  {
   "cell_type": "markdown",
   "id": "3fd0c6ba",
   "metadata": {},
   "source": [
    "Un array es una estructura de datos en NumPy que permite almacenar y procesar un conjunto de elementos del mismo tipo de datos. Los arrays de NumPy son similares a las listas de Python, pero ofrecen un rendimiento mucho mejor y un conjunto más completo de funciones y operaciones matemáticas.\n",
    "\n",
    "Un array de NumPy se puede crear a partir de una lista de Python utilizando la función **np.array()**. \n",
    "\n",
    "Veamos el siguiente código de Python donde se usan los **arrays**:"
   ]
  },
  {
   "cell_type": "code",
   "execution_count": 1,
   "id": "993f36af",
   "metadata": {},
   "outputs": [],
   "source": [
    "# Importa la biblioteca NumPy\n",
    "import numpy as np"
   ]
  },
  {
   "cell_type": "code",
   "execution_count": 2,
   "id": "e793e5e1",
   "metadata": {},
   "outputs": [
    {
     "name": "stdout",
     "output_type": "stream",
     "text": [
      "[1, 2, 3, 4, 5, 6, 7, 8, 9]\n"
     ]
    }
   ],
   "source": [
    "# Creamos una lista de enteros llamada \"list\" y la imprimimos.\n",
    "list = [1,2,3,4,5,6,7,8,9]\n",
    "print(list)"
   ]
  },
  {
   "cell_type": "code",
   "execution_count": 3,
   "id": "7d72cde6",
   "metadata": {},
   "outputs": [],
   "source": [
    "# Convertimos la lista \"list\" en un array de NumPy llamada \"arr\"\n",
    "arr = np.array(list)"
   ]
  },
  {
   "cell_type": "code",
   "execution_count": 4,
   "id": "18bad4ad",
   "metadata": {},
   "outputs": [
    {
     "name": "stdout",
     "output_type": "stream",
     "text": [
      "<class 'numpy.ndarray'>\n"
     ]
    }
   ],
   "source": [
    "# Imprimimos el tipo de datos del array \"arr\"\n",
    "print(type(arr))"
   ]
  },
  {
   "cell_type": "code",
   "execution_count": 5,
   "id": "31c50e73",
   "metadata": {},
   "outputs": [
    {
     "name": "stdout",
     "output_type": "stream",
     "text": [
      "[[1, 2, 3], [4, 5, 6], [7, 8, 9]]\n",
      "----------\n",
      "[[1 2 3]\n",
      " [4 5 6]\n",
      " [7 8 9]]\n"
     ]
    }
   ],
   "source": [
    "# Creamos una lista de listas (matriz) llamada \"matriz\" y la imprimimos junto a una linea de separación\n",
    "matriz = [[1,2,3],[4,5,6],[7,8,9]]\n",
    "print(matriz)\n",
    "print(\"-\"*10)\n",
    "\n",
    "# Convertimos la matriz en un array de NumPy e imprimimos el array.\n",
    "matriz = np.array(matriz)\n",
    "print(matriz)"
   ]
  },
  {
   "cell_type": "markdown",
   "id": "0ea277c4",
   "metadata": {},
   "source": [
    "## Indexing"
   ]
  },
  {
   "cell_type": "markdown",
   "id": "c947849d",
   "metadata": {},
   "source": [
    "El indexado es una técnica en Python que se utiliza para acceder a un elemento o subconjunto de elementos de una secuencia (como una lista, una cadena de caracteres o un array) utilizando un índice o un rango de índices.\n",
    "\n",
    "En Python, los índices comienzan en cero para la mayoría de las secuencias, lo que significa que el primer elemento de una secuencia tiene índice 0, el segundo elemento tiene índice 1, y así sucesivamente. También se pueden usar índices negativos, que cuentan desde el final de la secuencia hacia atrás. Por ejemplo, el último elemento de una secuencia tiene índice -1, el penúltimo elemento tiene índice -2, y así sucesivamente.\n",
    "\n",
    "Para acceder a un elemento de una secuencia utilizando su índice, se utiliza la sintaxis **sequence[index]**. Por ejemplo:"
   ]
  },
  {
   "cell_type": "code",
   "execution_count": 6,
   "id": "2e14bccc",
   "metadata": {
    "scrolled": true
   },
   "outputs": [
    {
     "name": "stdout",
     "output_type": "stream",
     "text": [
      "1\n",
      "4\n",
      "e\n"
     ]
    }
   ],
   "source": [
    "# Acceder al primer elemento de una lista\n",
    "my_list = [1, 2, 3, 4]\n",
    "first_element = my_list[0]  # first_element es 1\n",
    "print(first_element)\n",
    "\n",
    "# Acceder al último elemento de una lista\n",
    "last_element = my_list[-1]  # last_element es 4\n",
    "print(last_element)\n",
    "\n",
    "# Acceder al segundo elemento de una cadena de caracteres\n",
    "my_string = \"Hello\"\n",
    "second_char = my_string[1]  # second_char es \"e\"\n",
    "print(second_char)\n"
   ]
  },
  {
   "cell_type": "markdown",
   "id": "a314794a",
   "metadata": {},
   "source": [
    "Veamos más ejemplos de indexado:"
   ]
  },
  {
   "cell_type": "code",
   "execution_count": 7,
   "id": "8946fd7c",
   "metadata": {},
   "outputs": [
    {
     "data": {
      "text/plain": [
       "array([1, 2, 3, 4, 5, 6, 7, 8, 9])"
      ]
     },
     "execution_count": 7,
     "metadata": {},
     "output_type": "execute_result"
    }
   ],
   "source": [
    "arr"
   ]
  },
  {
   "cell_type": "code",
   "execution_count": 8,
   "id": "1316bc2f",
   "metadata": {},
   "outputs": [
    {
     "data": {
      "text/plain": [
       "1"
      ]
     },
     "execution_count": 8,
     "metadata": {},
     "output_type": "execute_result"
    }
   ],
   "source": [
    "arr[0]"
   ]
  },
  {
   "cell_type": "code",
   "execution_count": 9,
   "id": "96f0c59c",
   "metadata": {},
   "outputs": [
    {
     "data": {
      "text/plain": [
       "7"
      ]
     },
     "execution_count": 9,
     "metadata": {},
     "output_type": "execute_result"
    }
   ],
   "source": [
    "arr[0] + arr[5]"
   ]
  },
  {
   "cell_type": "code",
   "execution_count": 10,
   "id": "2eab35d5",
   "metadata": {},
   "outputs": [
    {
     "data": {
      "text/plain": [
       "array([1, 2, 3])"
      ]
     },
     "execution_count": 10,
     "metadata": {},
     "output_type": "execute_result"
    }
   ],
   "source": [
    "matriz[0]"
   ]
  },
  {
   "cell_type": "code",
   "execution_count": 11,
   "id": "fba0142e",
   "metadata": {},
   "outputs": [
    {
     "data": {
      "text/plain": [
       "array([7, 8, 9])"
      ]
     },
     "execution_count": 11,
     "metadata": {},
     "output_type": "execute_result"
    }
   ],
   "source": [
    "matriz[2]"
   ]
  },
  {
   "cell_type": "code",
   "execution_count": 12,
   "id": "233ec5d7",
   "metadata": {},
   "outputs": [
    {
     "data": {
      "text/plain": [
       "9"
      ]
     },
     "execution_count": 12,
     "metadata": {},
     "output_type": "execute_result"
    }
   ],
   "source": [
    "matriz[2,2]"
   ]
  },
  {
   "cell_type": "markdown",
   "id": "2453cfd2",
   "metadata": {},
   "source": [
    "### Slicing"
   ]
  },
  {
   "cell_type": "markdown",
   "id": "b9d90fb2",
   "metadata": {},
   "source": [
    "El slicing es una técnica en Python que se utiliza para obtener un subconjunto de elementos de una secuencia (como una lista, una cadena de caracteres o un array) utilizando un rango de índices. El slicing es similar al indexado en Python, pero en lugar de acceder a un solo elemento, el slicing permite acceder a un conjunto de elementos de forma más concisa.\n",
    "\n",
    "Para utilizar el slicing, se utiliza la sintaxis **`sequence[start:end:step]`**, donde **`start`** es el índice del primer elemento del subconjunto, **`end`** es el índice del primer elemento que no está incluido en el subconjunto y **`step`** es el tamaño del salto entre elementos. Por ejemplo:"
   ]
  },
  {
   "cell_type": "code",
   "execution_count": 13,
   "id": "fbb3879c",
   "metadata": {},
   "outputs": [
    {
     "name": "stdout",
     "output_type": "stream",
     "text": [
      "[1, 2, 3]\n",
      "[3, 4, 5]\n",
      "World\n"
     ]
    }
   ],
   "source": [
    "# Obtener los primeros tres elementos de una lista\n",
    "my_list = [1, 2, 3, 4, 5]\n",
    "sublist = my_list[:3]  # sublist es [1, 2, 3]\n",
    "print(sublist)\n",
    "\n",
    "# Obtener los últimos tres elementos de una lista\n",
    "sublist = my_list[-3:]  # sublist es [3, 4, 5]\n",
    "print(sublist)\n",
    "\n",
    "# Obtener un subconjunto intermedio de una cadena de caracteres\n",
    "my_string = \"Hello World\"\n",
    "substring = my_string[6:11]  # substring es \"World\"\n",
    "print(substring)"
   ]
  },
  {
   "cell_type": "markdown",
   "id": "d50ad757",
   "metadata": {},
   "source": [
    "Si se omite el valor de **start**, se asume que es el primer elemento de la secuencia. Si se omite el valor de **end**, se asume que es el último elemento de la secuencia. Si se omite el valor de **step**, se asume que es 1.\n",
    "\n",
    "También se puede utilizar el slicing para recorrer una secuencia en orden inverso, utilizando un valor negativo para step. Por ejemplo:"
   ]
  },
  {
   "cell_type": "code",
   "execution_count": 14,
   "id": "50dd1c2e",
   "metadata": {},
   "outputs": [
    {
     "name": "stdout",
     "output_type": "stream",
     "text": [
      "[4, 3, 2]\n",
      "[5, 4, 3, 2, 1]\n",
      "dlroW\n"
     ]
    }
   ],
   "source": [
    "# Obtener los primeros tres elementos de una lista en orden inverso\n",
    "my_list = [1, 2, 3, 4, 5]\n",
    "sublist = my_list[3:0:-1]  # sublist es [4, 3, 2]\n",
    "print(sublist)\n",
    "\n",
    "# Obtener todos los elementos de una lista en orden inverso\n",
    "sublist = my_list[::-1]  # sublist es [5, 4, 3, 2, 1]\n",
    "print(sublist)\n",
    "\n",
    "# Obtener un subconjunto intermedio de una cadena de caracteres en orden inverso\n",
    "my_string = \"Hello World\"\n",
    "substring = my_string[10:5:-1]  # substring es \"dlroW\"\n",
    "print(substring)"
   ]
  },
  {
   "cell_type": "markdown",
   "id": "150ccfe0",
   "metadata": {},
   "source": [
    "Veamos más ejemplos de \"slicing\":"
   ]
  },
  {
   "cell_type": "code",
   "execution_count": 15,
   "id": "a866d27d",
   "metadata": {},
   "outputs": [
    {
     "data": {
      "text/plain": [
       "array([1, 2, 3])"
      ]
     },
     "execution_count": 15,
     "metadata": {},
     "output_type": "execute_result"
    }
   ],
   "source": [
    "arr[0:3]"
   ]
  },
  {
   "cell_type": "code",
   "execution_count": 16,
   "id": "a9065764",
   "metadata": {},
   "outputs": [
    {
     "data": {
      "text/plain": [
       "array([1, 2, 3])"
      ]
     },
     "execution_count": 16,
     "metadata": {},
     "output_type": "execute_result"
    }
   ],
   "source": [
    "arr[:3]"
   ]
  },
  {
   "cell_type": "code",
   "execution_count": 17,
   "id": "29935918",
   "metadata": {},
   "outputs": [
    {
     "data": {
      "text/plain": [
       "array([3, 4, 5, 6, 7, 8, 9])"
      ]
     },
     "execution_count": 17,
     "metadata": {},
     "output_type": "execute_result"
    }
   ],
   "source": [
    "arr[2:]"
   ]
  },
  {
   "cell_type": "code",
   "execution_count": 18,
   "id": "550675ad",
   "metadata": {},
   "outputs": [
    {
     "data": {
      "text/plain": [
       "array([1, 2, 3, 4, 5, 6, 7, 8, 9])"
      ]
     },
     "execution_count": 18,
     "metadata": {},
     "output_type": "execute_result"
    }
   ],
   "source": [
    "arr[:]"
   ]
  },
  {
   "cell_type": "code",
   "execution_count": 19,
   "id": "1402f922",
   "metadata": {},
   "outputs": [
    {
     "data": {
      "text/plain": [
       "array([1, 4, 7])"
      ]
     },
     "execution_count": 19,
     "metadata": {},
     "output_type": "execute_result"
    }
   ],
   "source": [
    "arr[::3]"
   ]
  },
  {
   "cell_type": "code",
   "execution_count": 20,
   "id": "8229df83",
   "metadata": {},
   "outputs": [
    {
     "data": {
      "text/plain": [
       "9"
      ]
     },
     "execution_count": 20,
     "metadata": {},
     "output_type": "execute_result"
    }
   ],
   "source": [
    "arr[-1]"
   ]
  },
  {
   "cell_type": "code",
   "execution_count": 21,
   "id": "21e911c3",
   "metadata": {},
   "outputs": [
    {
     "data": {
      "text/plain": [
       "array([7, 8, 9])"
      ]
     },
     "execution_count": 21,
     "metadata": {},
     "output_type": "execute_result"
    }
   ],
   "source": [
    "arr[-3:]"
   ]
  },
  {
   "cell_type": "code",
   "execution_count": 22,
   "id": "c3e2a701",
   "metadata": {},
   "outputs": [
    {
     "data": {
      "text/plain": [
       "array([[1, 2, 3],\n",
       "       [4, 5, 6],\n",
       "       [7, 8, 9]])"
      ]
     },
     "execution_count": 22,
     "metadata": {},
     "output_type": "execute_result"
    }
   ],
   "source": [
    "matriz"
   ]
  },
  {
   "cell_type": "code",
   "execution_count": 23,
   "id": "c727fabd",
   "metadata": {},
   "outputs": [
    {
     "data": {
      "text/plain": [
       "array([[4, 5, 6],\n",
       "       [7, 8, 9]])"
      ]
     },
     "execution_count": 23,
     "metadata": {},
     "output_type": "execute_result"
    }
   ],
   "source": [
    "matriz[1:]"
   ]
  },
  {
   "cell_type": "code",
   "execution_count": 24,
   "id": "6f7a7b0e",
   "metadata": {},
   "outputs": [
    {
     "data": {
      "text/plain": [
       "array([[4, 5],\n",
       "       [7, 8]])"
      ]
     },
     "execution_count": 24,
     "metadata": {},
     "output_type": "execute_result"
    }
   ],
   "source": [
    "matriz[1:,0:2]"
   ]
  }
 ],
 "metadata": {
  "kernelspec": {
   "display_name": "Python 3 (ipykernel)",
   "language": "python",
   "name": "python3"
  },
  "language_info": {
   "codemirror_mode": {
    "name": "ipython",
    "version": 3
   },
   "file_extension": ".py",
   "mimetype": "text/x-python",
   "name": "python",
   "nbconvert_exporter": "python",
   "pygments_lexer": "ipython3",
   "version": "3.10.8"
  }
 },
 "nbformat": 4,
 "nbformat_minor": 5
}
